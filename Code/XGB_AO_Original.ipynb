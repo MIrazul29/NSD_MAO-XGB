{
 "cells": [
  {
   "cell_type": "code",
   "execution_count": 1,
   "metadata": {
    "ExecuteTime": {
     "end_time": "2023-01-02T20:28:16.213410Z",
     "start_time": "2023-01-02T20:28:10.532595Z"
    }
   },
   "outputs": [],
   "source": [
    "import numpy as np\n",
    "import pandas as pd\n",
    "import matplotlib.pylab as plt\n",
    "plt.style.use('seaborn-white')\n",
    "%matplotlib inline\n",
    "    \n",
    "import xgboost as xgb\n",
    "from sklearn.model_selection import  train_test_split\n",
    "# Models\n",
    "from sklearn.ensemble import RandomForestClassifier, GradientBoostingClassifier\n",
    "from sklearn.neighbors import KNeighborsClassifier\n",
    "from sklearn.linear_model import LogisticRegression\n",
    "from sklearn.svm import SVC, LinearSVC\n",
    "from sklearn.tree import DecisionTreeClassifier\n",
    "from sklearn.naive_bayes import BernoulliNB\n",
    "from sklearn.discriminant_analysis import LinearDiscriminantAnalysis\n",
    "from sklearn.discriminant_analysis import QuadraticDiscriminantAnalysis\n",
    "from sklearn.metrics import *\n",
    "# Helper functions\n",
    "from sklearn import metrics\n",
    "from sklearn.preprocessing import MinMaxScaler\n",
    "\n",
    "from sklearn.metrics import accuracy_score\n",
    "from sklearn.model_selection import cross_val_score\n",
    "from sklearn.model_selection import StratifiedShuffleSplit\n",
    "from hyperopt import fmin, tpe, hp, STATUS_OK, Trials\n",
    "from imblearn.over_sampling import ADASYN\n",
    "\n",
    "import warnings\n",
    "warnings.filterwarnings(\"ignore\")\n",
    "\n",
    "%reload_ext autoreload\n",
    "%autoreload 2\n",
    "import numpy as np "
   ]
  },
  {
   "cell_type": "code",
   "execution_count": null,
   "metadata": {
    "ExecuteTime": {
     "end_time": "2022-08-26T06:35:01.880718Z",
     "start_time": "2022-08-26T06:35:01.675184Z"
    }
   },
   "outputs": [],
   "source": []
  },
  {
   "cell_type": "code",
   "execution_count": 2,
   "metadata": {
    "ExecuteTime": {
     "end_time": "2023-01-02T20:28:17.094053Z",
     "start_time": "2023-01-02T20:28:16.692129Z"
    }
   },
   "outputs": [],
   "source": [
    "import mealpy "
   ]
  },
  {
   "cell_type": "code",
   "execution_count": 18,
   "metadata": {
    "ExecuteTime": {
     "end_time": "2023-01-02T20:28:17.828092Z",
     "start_time": "2023-01-02T20:28:17.597709Z"
    }
   },
   "outputs": [],
   "source": [
    "from mealpy.swarm_based.AO import OriginalAO"
   ]
  },
  {
   "cell_type": "code",
   "execution_count": 19,
   "metadata": {
    "ExecuteTime": {
     "end_time": "2023-01-02T20:28:20.542931Z",
     "start_time": "2023-01-02T20:28:18.367745Z"
    }
   },
   "outputs": [],
   "source": [
    "from opfunu.cec_basic.cec2014_nobias import *\n",
    "\n",
    "from sklearn.model_selection import train_test_split"
   ]
  },
  {
   "cell_type": "code",
   "execution_count": 20,
   "metadata": {
    "ExecuteTime": {
     "end_time": "2023-01-02T20:49:37.079289Z",
     "start_time": "2023-01-02T20:49:36.926280Z"
    }
   },
   "outputs": [],
   "source": [
    "from opfunu.cec_basic.cec2014_nobias import *\n",
    "from mealpy.evolutionary_based.GA import BaseGA\n",
    "from mealpy.evolutionary_based.DE import BaseDE\n",
    "\n",
    "from sklearn.model_selection import train_test_split"
   ]
  },
  {
   "cell_type": "code",
   "execution_count": 21,
   "metadata": {
    "ExecuteTime": {
     "end_time": "2023-01-02T20:51:18.244956Z",
     "start_time": "2023-01-02T20:51:15.211188Z"
    }
   },
   "outputs": [
    {
     "data": {
      "text/html": [
       "<div>\n",
       "<style scoped>\n",
       "    .dataframe tbody tr th:only-of-type {\n",
       "        vertical-align: middle;\n",
       "    }\n",
       "\n",
       "    .dataframe tbody tr th {\n",
       "        vertical-align: top;\n",
       "    }\n",
       "\n",
       "    .dataframe thead th {\n",
       "        text-align: right;\n",
       "    }\n",
       "</style>\n",
       "<table border=\"1\" class=\"dataframe\">\n",
       "  <thead>\n",
       "    <tr style=\"text-align: right;\">\n",
       "      <th></th>\n",
       "      <th>0</th>\n",
       "      <th>1</th>\n",
       "      <th>2</th>\n",
       "      <th>3</th>\n",
       "      <th>4</th>\n",
       "      <th>5</th>\n",
       "      <th>6</th>\n",
       "      <th>7</th>\n",
       "      <th>8</th>\n",
       "      <th>9</th>\n",
       "      <th>...</th>\n",
       "      <th>9.14</th>\n",
       "      <th>10.14</th>\n",
       "      <th>11.14</th>\n",
       "      <th>12.14</th>\n",
       "      <th>13.14</th>\n",
       "      <th>14.14</th>\n",
       "      <th>15.14</th>\n",
       "      <th>16.14</th>\n",
       "      <th>17.14</th>\n",
       "      <th>4608</th>\n",
       "    </tr>\n",
       "  </thead>\n",
       "  <tbody>\n",
       "    <tr>\n",
       "      <th>0</th>\n",
       "      <td>0.524757</td>\n",
       "      <td>0.544793</td>\n",
       "      <td>0.412151</td>\n",
       "      <td>0.551673</td>\n",
       "      <td>0.464462</td>\n",
       "      <td>0.499556</td>\n",
       "      <td>0.436304</td>\n",
       "      <td>0.446646</td>\n",
       "      <td>0.633449</td>\n",
       "      <td>0.515987</td>\n",
       "      <td>...</td>\n",
       "      <td>0.991239</td>\n",
       "      <td>0.951170</td>\n",
       "      <td>0.968513</td>\n",
       "      <td>0.845054</td>\n",
       "      <td>0.879220</td>\n",
       "      <td>0.850735</td>\n",
       "      <td>0.933032</td>\n",
       "      <td>0.877387</td>\n",
       "      <td>0.945481</td>\n",
       "      <td>0.0</td>\n",
       "    </tr>\n",
       "    <tr>\n",
       "      <th>1</th>\n",
       "      <td>0.608664</td>\n",
       "      <td>0.583977</td>\n",
       "      <td>0.546967</td>\n",
       "      <td>0.471963</td>\n",
       "      <td>0.644624</td>\n",
       "      <td>0.577193</td>\n",
       "      <td>0.528194</td>\n",
       "      <td>0.505006</td>\n",
       "      <td>0.528258</td>\n",
       "      <td>0.525019</td>\n",
       "      <td>...</td>\n",
       "      <td>0.952823</td>\n",
       "      <td>1.016192</td>\n",
       "      <td>1.070512</td>\n",
       "      <td>0.972086</td>\n",
       "      <td>1.068921</td>\n",
       "      <td>1.037393</td>\n",
       "      <td>1.008699</td>\n",
       "      <td>0.958534</td>\n",
       "      <td>0.965731</td>\n",
       "      <td>0.0</td>\n",
       "    </tr>\n",
       "    <tr>\n",
       "      <th>2</th>\n",
       "      <td>0.393534</td>\n",
       "      <td>0.429366</td>\n",
       "      <td>0.444702</td>\n",
       "      <td>0.441209</td>\n",
       "      <td>0.529815</td>\n",
       "      <td>0.509801</td>\n",
       "      <td>0.395971</td>\n",
       "      <td>0.448937</td>\n",
       "      <td>0.424779</td>\n",
       "      <td>0.477949</td>\n",
       "      <td>...</td>\n",
       "      <td>1.043352</td>\n",
       "      <td>0.978369</td>\n",
       "      <td>0.931033</td>\n",
       "      <td>0.918883</td>\n",
       "      <td>0.959226</td>\n",
       "      <td>0.956660</td>\n",
       "      <td>0.948784</td>\n",
       "      <td>0.919588</td>\n",
       "      <td>0.945484</td>\n",
       "      <td>0.0</td>\n",
       "    </tr>\n",
       "    <tr>\n",
       "      <th>3</th>\n",
       "      <td>0.530548</td>\n",
       "      <td>0.523216</td>\n",
       "      <td>0.620434</td>\n",
       "      <td>0.562981</td>\n",
       "      <td>0.591641</td>\n",
       "      <td>0.629961</td>\n",
       "      <td>0.628830</td>\n",
       "      <td>0.696024</td>\n",
       "      <td>0.578577</td>\n",
       "      <td>0.470040</td>\n",
       "      <td>...</td>\n",
       "      <td>0.975293</td>\n",
       "      <td>1.059029</td>\n",
       "      <td>1.046657</td>\n",
       "      <td>0.940722</td>\n",
       "      <td>0.945110</td>\n",
       "      <td>1.080878</td>\n",
       "      <td>1.000865</td>\n",
       "      <td>1.037109</td>\n",
       "      <td>1.062409</td>\n",
       "      <td>0.0</td>\n",
       "    </tr>\n",
       "    <tr>\n",
       "      <th>4</th>\n",
       "      <td>0.403035</td>\n",
       "      <td>0.396947</td>\n",
       "      <td>0.568336</td>\n",
       "      <td>0.579632</td>\n",
       "      <td>0.544966</td>\n",
       "      <td>0.608682</td>\n",
       "      <td>0.557415</td>\n",
       "      <td>0.571581</td>\n",
       "      <td>0.531753</td>\n",
       "      <td>0.526171</td>\n",
       "      <td>...</td>\n",
       "      <td>0.986336</td>\n",
       "      <td>0.778641</td>\n",
       "      <td>1.010981</td>\n",
       "      <td>0.974464</td>\n",
       "      <td>1.026416</td>\n",
       "      <td>1.015049</td>\n",
       "      <td>0.986615</td>\n",
       "      <td>1.091045</td>\n",
       "      <td>0.980438</td>\n",
       "      <td>0.0</td>\n",
       "    </tr>\n",
       "    <tr>\n",
       "      <th>...</th>\n",
       "      <td>...</td>\n",
       "      <td>...</td>\n",
       "      <td>...</td>\n",
       "      <td>...</td>\n",
       "      <td>...</td>\n",
       "      <td>...</td>\n",
       "      <td>...</td>\n",
       "      <td>...</td>\n",
       "      <td>...</td>\n",
       "      <td>...</td>\n",
       "      <td>...</td>\n",
       "      <td>...</td>\n",
       "      <td>...</td>\n",
       "      <td>...</td>\n",
       "      <td>...</td>\n",
       "      <td>...</td>\n",
       "      <td>...</td>\n",
       "      <td>...</td>\n",
       "      <td>...</td>\n",
       "      <td>...</td>\n",
       "      <td>...</td>\n",
       "    </tr>\n",
       "    <tr>\n",
       "      <th>27134</th>\n",
       "      <td>0.578498</td>\n",
       "      <td>0.698255</td>\n",
       "      <td>0.472672</td>\n",
       "      <td>0.449607</td>\n",
       "      <td>0.521700</td>\n",
       "      <td>0.481050</td>\n",
       "      <td>0.505649</td>\n",
       "      <td>0.472043</td>\n",
       "      <td>0.451930</td>\n",
       "      <td>0.504854</td>\n",
       "      <td>...</td>\n",
       "      <td>0.854322</td>\n",
       "      <td>0.993248</td>\n",
       "      <td>0.978016</td>\n",
       "      <td>0.982266</td>\n",
       "      <td>0.886000</td>\n",
       "      <td>0.944314</td>\n",
       "      <td>0.864827</td>\n",
       "      <td>0.856612</td>\n",
       "      <td>0.874302</td>\n",
       "      <td>0.0</td>\n",
       "    </tr>\n",
       "    <tr>\n",
       "      <th>27135</th>\n",
       "      <td>0.482395</td>\n",
       "      <td>0.380647</td>\n",
       "      <td>0.629459</td>\n",
       "      <td>0.661780</td>\n",
       "      <td>0.508423</td>\n",
       "      <td>0.396725</td>\n",
       "      <td>0.463194</td>\n",
       "      <td>0.469465</td>\n",
       "      <td>0.513152</td>\n",
       "      <td>0.411674</td>\n",
       "      <td>...</td>\n",
       "      <td>0.933006</td>\n",
       "      <td>0.880473</td>\n",
       "      <td>0.871161</td>\n",
       "      <td>0.838128</td>\n",
       "      <td>0.790278</td>\n",
       "      <td>0.989206</td>\n",
       "      <td>0.728943</td>\n",
       "      <td>0.889210</td>\n",
       "      <td>0.976383</td>\n",
       "      <td>0.0</td>\n",
       "    </tr>\n",
       "    <tr>\n",
       "      <th>27136</th>\n",
       "      <td>0.557134</td>\n",
       "      <td>0.656085</td>\n",
       "      <td>0.679652</td>\n",
       "      <td>0.572919</td>\n",
       "      <td>0.612520</td>\n",
       "      <td>0.502926</td>\n",
       "      <td>0.661930</td>\n",
       "      <td>0.596927</td>\n",
       "      <td>0.544991</td>\n",
       "      <td>0.521284</td>\n",
       "      <td>...</td>\n",
       "      <td>1.046590</td>\n",
       "      <td>0.859910</td>\n",
       "      <td>0.909656</td>\n",
       "      <td>0.903878</td>\n",
       "      <td>0.936264</td>\n",
       "      <td>0.813767</td>\n",
       "      <td>1.019373</td>\n",
       "      <td>0.722209</td>\n",
       "      <td>1.051894</td>\n",
       "      <td>0.0</td>\n",
       "    </tr>\n",
       "    <tr>\n",
       "      <th>27137</th>\n",
       "      <td>0.451465</td>\n",
       "      <td>0.476764</td>\n",
       "      <td>0.431677</td>\n",
       "      <td>0.505904</td>\n",
       "      <td>0.453485</td>\n",
       "      <td>0.455314</td>\n",
       "      <td>0.476093</td>\n",
       "      <td>0.495916</td>\n",
       "      <td>0.439104</td>\n",
       "      <td>0.617553</td>\n",
       "      <td>...</td>\n",
       "      <td>0.986332</td>\n",
       "      <td>1.090391</td>\n",
       "      <td>1.006487</td>\n",
       "      <td>1.106214</td>\n",
       "      <td>1.053717</td>\n",
       "      <td>1.025108</td>\n",
       "      <td>0.977091</td>\n",
       "      <td>0.983016</td>\n",
       "      <td>1.025240</td>\n",
       "      <td>0.0</td>\n",
       "    </tr>\n",
       "    <tr>\n",
       "      <th>27138</th>\n",
       "      <td>0.489219</td>\n",
       "      <td>0.670714</td>\n",
       "      <td>0.321304</td>\n",
       "      <td>0.698389</td>\n",
       "      <td>0.406116</td>\n",
       "      <td>0.802148</td>\n",
       "      <td>0.519104</td>\n",
       "      <td>0.305200</td>\n",
       "      <td>0.781145</td>\n",
       "      <td>0.499880</td>\n",
       "      <td>...</td>\n",
       "      <td>0.983499</td>\n",
       "      <td>0.954862</td>\n",
       "      <td>0.920692</td>\n",
       "      <td>0.649398</td>\n",
       "      <td>0.695482</td>\n",
       "      <td>0.870536</td>\n",
       "      <td>0.701932</td>\n",
       "      <td>0.688077</td>\n",
       "      <td>0.900566</td>\n",
       "      <td>1.0</td>\n",
       "    </tr>\n",
       "  </tbody>\n",
       "</table>\n",
       "<p>27139 rows × 271 columns</p>\n",
       "</div>"
      ],
      "text/plain": [
       "              0         1         2         3         4         5         6  \\\n",
       "0      0.524757  0.544793  0.412151  0.551673  0.464462  0.499556  0.436304   \n",
       "1      0.608664  0.583977  0.546967  0.471963  0.644624  0.577193  0.528194   \n",
       "2      0.393534  0.429366  0.444702  0.441209  0.529815  0.509801  0.395971   \n",
       "3      0.530548  0.523216  0.620434  0.562981  0.591641  0.629961  0.628830   \n",
       "4      0.403035  0.396947  0.568336  0.579632  0.544966  0.608682  0.557415   \n",
       "...         ...       ...       ...       ...       ...       ...       ...   \n",
       "27134  0.578498  0.698255  0.472672  0.449607  0.521700  0.481050  0.505649   \n",
       "27135  0.482395  0.380647  0.629459  0.661780  0.508423  0.396725  0.463194   \n",
       "27136  0.557134  0.656085  0.679652  0.572919  0.612520  0.502926  0.661930   \n",
       "27137  0.451465  0.476764  0.431677  0.505904  0.453485  0.455314  0.476093   \n",
       "27138  0.489219  0.670714  0.321304  0.698389  0.406116  0.802148  0.519104   \n",
       "\n",
       "              7         8         9  ...      9.14     10.14     11.14  \\\n",
       "0      0.446646  0.633449  0.515987  ...  0.991239  0.951170  0.968513   \n",
       "1      0.505006  0.528258  0.525019  ...  0.952823  1.016192  1.070512   \n",
       "2      0.448937  0.424779  0.477949  ...  1.043352  0.978369  0.931033   \n",
       "3      0.696024  0.578577  0.470040  ...  0.975293  1.059029  1.046657   \n",
       "4      0.571581  0.531753  0.526171  ...  0.986336  0.778641  1.010981   \n",
       "...         ...       ...       ...  ...       ...       ...       ...   \n",
       "27134  0.472043  0.451930  0.504854  ...  0.854322  0.993248  0.978016   \n",
       "27135  0.469465  0.513152  0.411674  ...  0.933006  0.880473  0.871161   \n",
       "27136  0.596927  0.544991  0.521284  ...  1.046590  0.859910  0.909656   \n",
       "27137  0.495916  0.439104  0.617553  ...  0.986332  1.090391  1.006487   \n",
       "27138  0.305200  0.781145  0.499880  ...  0.983499  0.954862  0.920692   \n",
       "\n",
       "          12.14     13.14     14.14     15.14     16.14     17.14  4608  \n",
       "0      0.845054  0.879220  0.850735  0.933032  0.877387  0.945481   0.0  \n",
       "1      0.972086  1.068921  1.037393  1.008699  0.958534  0.965731   0.0  \n",
       "2      0.918883  0.959226  0.956660  0.948784  0.919588  0.945484   0.0  \n",
       "3      0.940722  0.945110  1.080878  1.000865  1.037109  1.062409   0.0  \n",
       "4      0.974464  1.026416  1.015049  0.986615  1.091045  0.980438   0.0  \n",
       "...         ...       ...       ...       ...       ...       ...   ...  \n",
       "27134  0.982266  0.886000  0.944314  0.864827  0.856612  0.874302   0.0  \n",
       "27135  0.838128  0.790278  0.989206  0.728943  0.889210  0.976383   0.0  \n",
       "27136  0.903878  0.936264  0.813767  1.019373  0.722209  1.051894   0.0  \n",
       "27137  1.106214  1.053717  1.025108  0.977091  0.983016  1.025240   0.0  \n",
       "27138  0.649398  0.695482  0.870536  0.701932  0.688077  0.900566   1.0  \n",
       "\n",
       "[27139 rows x 271 columns]"
      ]
     },
     "execution_count": 21,
     "metadata": {},
     "output_type": "execute_result"
    }
   ],
   "source": [
    "df_train=pd.read_csv('train.csv')\n",
    "df_train"
   ]
  },
  {
   "cell_type": "code",
   "execution_count": 22,
   "metadata": {
    "ExecuteTime": {
     "end_time": "2023-01-02T20:51:23.846599Z",
     "start_time": "2023-01-02T20:51:23.662012Z"
    }
   },
   "outputs": [],
   "source": [
    "x_train=df_train.drop(columns=['4608'])\n",
    "y_train=df_train['4608']"
   ]
  },
  {
   "cell_type": "code",
   "execution_count": 23,
   "metadata": {
    "ExecuteTime": {
     "end_time": "2023-01-02T20:51:24.828670Z",
     "start_time": "2023-01-02T20:51:24.631089Z"
    }
   },
   "outputs": [
    {
     "data": {
      "text/html": [
       "<div>\n",
       "<style scoped>\n",
       "    .dataframe tbody tr th:only-of-type {\n",
       "        vertical-align: middle;\n",
       "    }\n",
       "\n",
       "    .dataframe tbody tr th {\n",
       "        vertical-align: top;\n",
       "    }\n",
       "\n",
       "    .dataframe thead th {\n",
       "        text-align: right;\n",
       "    }\n",
       "</style>\n",
       "<table border=\"1\" class=\"dataframe\">\n",
       "  <thead>\n",
       "    <tr style=\"text-align: right;\">\n",
       "      <th></th>\n",
       "      <th>0</th>\n",
       "      <th>1</th>\n",
       "      <th>2</th>\n",
       "      <th>3</th>\n",
       "      <th>4</th>\n",
       "      <th>5</th>\n",
       "      <th>6</th>\n",
       "      <th>7</th>\n",
       "      <th>8</th>\n",
       "      <th>9</th>\n",
       "      <th>...</th>\n",
       "      <th>8.14</th>\n",
       "      <th>9.14</th>\n",
       "      <th>10.14</th>\n",
       "      <th>11.14</th>\n",
       "      <th>12.14</th>\n",
       "      <th>13.14</th>\n",
       "      <th>14.14</th>\n",
       "      <th>15.14</th>\n",
       "      <th>16.14</th>\n",
       "      <th>17.14</th>\n",
       "    </tr>\n",
       "  </thead>\n",
       "  <tbody>\n",
       "    <tr>\n",
       "      <th>0</th>\n",
       "      <td>0.524757</td>\n",
       "      <td>0.544793</td>\n",
       "      <td>0.412151</td>\n",
       "      <td>0.551673</td>\n",
       "      <td>0.464462</td>\n",
       "      <td>0.499556</td>\n",
       "      <td>0.436304</td>\n",
       "      <td>0.446646</td>\n",
       "      <td>0.633449</td>\n",
       "      <td>0.515987</td>\n",
       "      <td>...</td>\n",
       "      <td>0.794386</td>\n",
       "      <td>0.991239</td>\n",
       "      <td>0.951170</td>\n",
       "      <td>0.968513</td>\n",
       "      <td>0.845054</td>\n",
       "      <td>0.879220</td>\n",
       "      <td>0.850735</td>\n",
       "      <td>0.933032</td>\n",
       "      <td>0.877387</td>\n",
       "      <td>0.945481</td>\n",
       "    </tr>\n",
       "    <tr>\n",
       "      <th>1</th>\n",
       "      <td>0.608664</td>\n",
       "      <td>0.583977</td>\n",
       "      <td>0.546967</td>\n",
       "      <td>0.471963</td>\n",
       "      <td>0.644624</td>\n",
       "      <td>0.577193</td>\n",
       "      <td>0.528194</td>\n",
       "      <td>0.505006</td>\n",
       "      <td>0.528258</td>\n",
       "      <td>0.525019</td>\n",
       "      <td>...</td>\n",
       "      <td>1.031708</td>\n",
       "      <td>0.952823</td>\n",
       "      <td>1.016192</td>\n",
       "      <td>1.070512</td>\n",
       "      <td>0.972086</td>\n",
       "      <td>1.068921</td>\n",
       "      <td>1.037393</td>\n",
       "      <td>1.008699</td>\n",
       "      <td>0.958534</td>\n",
       "      <td>0.965731</td>\n",
       "    </tr>\n",
       "    <tr>\n",
       "      <th>2</th>\n",
       "      <td>0.393534</td>\n",
       "      <td>0.429366</td>\n",
       "      <td>0.444702</td>\n",
       "      <td>0.441209</td>\n",
       "      <td>0.529815</td>\n",
       "      <td>0.509801</td>\n",
       "      <td>0.395971</td>\n",
       "      <td>0.448937</td>\n",
       "      <td>0.424779</td>\n",
       "      <td>0.477949</td>\n",
       "      <td>...</td>\n",
       "      <td>1.010076</td>\n",
       "      <td>1.043352</td>\n",
       "      <td>0.978369</td>\n",
       "      <td>0.931033</td>\n",
       "      <td>0.918883</td>\n",
       "      <td>0.959226</td>\n",
       "      <td>0.956660</td>\n",
       "      <td>0.948784</td>\n",
       "      <td>0.919588</td>\n",
       "      <td>0.945484</td>\n",
       "    </tr>\n",
       "    <tr>\n",
       "      <th>3</th>\n",
       "      <td>0.530548</td>\n",
       "      <td>0.523216</td>\n",
       "      <td>0.620434</td>\n",
       "      <td>0.562981</td>\n",
       "      <td>0.591641</td>\n",
       "      <td>0.629961</td>\n",
       "      <td>0.628830</td>\n",
       "      <td>0.696024</td>\n",
       "      <td>0.578577</td>\n",
       "      <td>0.470040</td>\n",
       "      <td>...</td>\n",
       "      <td>1.025390</td>\n",
       "      <td>0.975293</td>\n",
       "      <td>1.059029</td>\n",
       "      <td>1.046657</td>\n",
       "      <td>0.940722</td>\n",
       "      <td>0.945110</td>\n",
       "      <td>1.080878</td>\n",
       "      <td>1.000865</td>\n",
       "      <td>1.037109</td>\n",
       "      <td>1.062409</td>\n",
       "    </tr>\n",
       "    <tr>\n",
       "      <th>4</th>\n",
       "      <td>0.403035</td>\n",
       "      <td>0.396947</td>\n",
       "      <td>0.568336</td>\n",
       "      <td>0.579632</td>\n",
       "      <td>0.544966</td>\n",
       "      <td>0.608682</td>\n",
       "      <td>0.557415</td>\n",
       "      <td>0.571581</td>\n",
       "      <td>0.531753</td>\n",
       "      <td>0.526171</td>\n",
       "      <td>...</td>\n",
       "      <td>1.071120</td>\n",
       "      <td>0.986336</td>\n",
       "      <td>0.778641</td>\n",
       "      <td>1.010981</td>\n",
       "      <td>0.974464</td>\n",
       "      <td>1.026416</td>\n",
       "      <td>1.015049</td>\n",
       "      <td>0.986615</td>\n",
       "      <td>1.091045</td>\n",
       "      <td>0.980438</td>\n",
       "    </tr>\n",
       "    <tr>\n",
       "      <th>...</th>\n",
       "      <td>...</td>\n",
       "      <td>...</td>\n",
       "      <td>...</td>\n",
       "      <td>...</td>\n",
       "      <td>...</td>\n",
       "      <td>...</td>\n",
       "      <td>...</td>\n",
       "      <td>...</td>\n",
       "      <td>...</td>\n",
       "      <td>...</td>\n",
       "      <td>...</td>\n",
       "      <td>...</td>\n",
       "      <td>...</td>\n",
       "      <td>...</td>\n",
       "      <td>...</td>\n",
       "      <td>...</td>\n",
       "      <td>...</td>\n",
       "      <td>...</td>\n",
       "      <td>...</td>\n",
       "      <td>...</td>\n",
       "      <td>...</td>\n",
       "    </tr>\n",
       "    <tr>\n",
       "      <th>27134</th>\n",
       "      <td>0.578498</td>\n",
       "      <td>0.698255</td>\n",
       "      <td>0.472672</td>\n",
       "      <td>0.449607</td>\n",
       "      <td>0.521700</td>\n",
       "      <td>0.481050</td>\n",
       "      <td>0.505649</td>\n",
       "      <td>0.472043</td>\n",
       "      <td>0.451930</td>\n",
       "      <td>0.504854</td>\n",
       "      <td>...</td>\n",
       "      <td>0.839443</td>\n",
       "      <td>0.854322</td>\n",
       "      <td>0.993248</td>\n",
       "      <td>0.978016</td>\n",
       "      <td>0.982266</td>\n",
       "      <td>0.886000</td>\n",
       "      <td>0.944314</td>\n",
       "      <td>0.864827</td>\n",
       "      <td>0.856612</td>\n",
       "      <td>0.874302</td>\n",
       "    </tr>\n",
       "    <tr>\n",
       "      <th>27135</th>\n",
       "      <td>0.482395</td>\n",
       "      <td>0.380647</td>\n",
       "      <td>0.629459</td>\n",
       "      <td>0.661780</td>\n",
       "      <td>0.508423</td>\n",
       "      <td>0.396725</td>\n",
       "      <td>0.463194</td>\n",
       "      <td>0.469465</td>\n",
       "      <td>0.513152</td>\n",
       "      <td>0.411674</td>\n",
       "      <td>...</td>\n",
       "      <td>0.681271</td>\n",
       "      <td>0.933006</td>\n",
       "      <td>0.880473</td>\n",
       "      <td>0.871161</td>\n",
       "      <td>0.838128</td>\n",
       "      <td>0.790278</td>\n",
       "      <td>0.989206</td>\n",
       "      <td>0.728943</td>\n",
       "      <td>0.889210</td>\n",
       "      <td>0.976383</td>\n",
       "    </tr>\n",
       "    <tr>\n",
       "      <th>27136</th>\n",
       "      <td>0.557134</td>\n",
       "      <td>0.656085</td>\n",
       "      <td>0.679652</td>\n",
       "      <td>0.572919</td>\n",
       "      <td>0.612520</td>\n",
       "      <td>0.502926</td>\n",
       "      <td>0.661930</td>\n",
       "      <td>0.596927</td>\n",
       "      <td>0.544991</td>\n",
       "      <td>0.521284</td>\n",
       "      <td>...</td>\n",
       "      <td>0.917375</td>\n",
       "      <td>1.046590</td>\n",
       "      <td>0.859910</td>\n",
       "      <td>0.909656</td>\n",
       "      <td>0.903878</td>\n",
       "      <td>0.936264</td>\n",
       "      <td>0.813767</td>\n",
       "      <td>1.019373</td>\n",
       "      <td>0.722209</td>\n",
       "      <td>1.051894</td>\n",
       "    </tr>\n",
       "    <tr>\n",
       "      <th>27137</th>\n",
       "      <td>0.451465</td>\n",
       "      <td>0.476764</td>\n",
       "      <td>0.431677</td>\n",
       "      <td>0.505904</td>\n",
       "      <td>0.453485</td>\n",
       "      <td>0.455314</td>\n",
       "      <td>0.476093</td>\n",
       "      <td>0.495916</td>\n",
       "      <td>0.439104</td>\n",
       "      <td>0.617553</td>\n",
       "      <td>...</td>\n",
       "      <td>1.103762</td>\n",
       "      <td>0.986332</td>\n",
       "      <td>1.090391</td>\n",
       "      <td>1.006487</td>\n",
       "      <td>1.106214</td>\n",
       "      <td>1.053717</td>\n",
       "      <td>1.025108</td>\n",
       "      <td>0.977091</td>\n",
       "      <td>0.983016</td>\n",
       "      <td>1.025240</td>\n",
       "    </tr>\n",
       "    <tr>\n",
       "      <th>27138</th>\n",
       "      <td>0.489219</td>\n",
       "      <td>0.670714</td>\n",
       "      <td>0.321304</td>\n",
       "      <td>0.698389</td>\n",
       "      <td>0.406116</td>\n",
       "      <td>0.802148</td>\n",
       "      <td>0.519104</td>\n",
       "      <td>0.305200</td>\n",
       "      <td>0.781145</td>\n",
       "      <td>0.499880</td>\n",
       "      <td>...</td>\n",
       "      <td>0.656706</td>\n",
       "      <td>0.983499</td>\n",
       "      <td>0.954862</td>\n",
       "      <td>0.920692</td>\n",
       "      <td>0.649398</td>\n",
       "      <td>0.695482</td>\n",
       "      <td>0.870536</td>\n",
       "      <td>0.701932</td>\n",
       "      <td>0.688077</td>\n",
       "      <td>0.900566</td>\n",
       "    </tr>\n",
       "  </tbody>\n",
       "</table>\n",
       "<p>27139 rows × 270 columns</p>\n",
       "</div>"
      ],
      "text/plain": [
       "              0         1         2         3         4         5         6  \\\n",
       "0      0.524757  0.544793  0.412151  0.551673  0.464462  0.499556  0.436304   \n",
       "1      0.608664  0.583977  0.546967  0.471963  0.644624  0.577193  0.528194   \n",
       "2      0.393534  0.429366  0.444702  0.441209  0.529815  0.509801  0.395971   \n",
       "3      0.530548  0.523216  0.620434  0.562981  0.591641  0.629961  0.628830   \n",
       "4      0.403035  0.396947  0.568336  0.579632  0.544966  0.608682  0.557415   \n",
       "...         ...       ...       ...       ...       ...       ...       ...   \n",
       "27134  0.578498  0.698255  0.472672  0.449607  0.521700  0.481050  0.505649   \n",
       "27135  0.482395  0.380647  0.629459  0.661780  0.508423  0.396725  0.463194   \n",
       "27136  0.557134  0.656085  0.679652  0.572919  0.612520  0.502926  0.661930   \n",
       "27137  0.451465  0.476764  0.431677  0.505904  0.453485  0.455314  0.476093   \n",
       "27138  0.489219  0.670714  0.321304  0.698389  0.406116  0.802148  0.519104   \n",
       "\n",
       "              7         8         9  ...      8.14      9.14     10.14  \\\n",
       "0      0.446646  0.633449  0.515987  ...  0.794386  0.991239  0.951170   \n",
       "1      0.505006  0.528258  0.525019  ...  1.031708  0.952823  1.016192   \n",
       "2      0.448937  0.424779  0.477949  ...  1.010076  1.043352  0.978369   \n",
       "3      0.696024  0.578577  0.470040  ...  1.025390  0.975293  1.059029   \n",
       "4      0.571581  0.531753  0.526171  ...  1.071120  0.986336  0.778641   \n",
       "...         ...       ...       ...  ...       ...       ...       ...   \n",
       "27134  0.472043  0.451930  0.504854  ...  0.839443  0.854322  0.993248   \n",
       "27135  0.469465  0.513152  0.411674  ...  0.681271  0.933006  0.880473   \n",
       "27136  0.596927  0.544991  0.521284  ...  0.917375  1.046590  0.859910   \n",
       "27137  0.495916  0.439104  0.617553  ...  1.103762  0.986332  1.090391   \n",
       "27138  0.305200  0.781145  0.499880  ...  0.656706  0.983499  0.954862   \n",
       "\n",
       "          11.14     12.14     13.14     14.14     15.14     16.14     17.14  \n",
       "0      0.968513  0.845054  0.879220  0.850735  0.933032  0.877387  0.945481  \n",
       "1      1.070512  0.972086  1.068921  1.037393  1.008699  0.958534  0.965731  \n",
       "2      0.931033  0.918883  0.959226  0.956660  0.948784  0.919588  0.945484  \n",
       "3      1.046657  0.940722  0.945110  1.080878  1.000865  1.037109  1.062409  \n",
       "4      1.010981  0.974464  1.026416  1.015049  0.986615  1.091045  0.980438  \n",
       "...         ...       ...       ...       ...       ...       ...       ...  \n",
       "27134  0.978016  0.982266  0.886000  0.944314  0.864827  0.856612  0.874302  \n",
       "27135  0.871161  0.838128  0.790278  0.989206  0.728943  0.889210  0.976383  \n",
       "27136  0.909656  0.903878  0.936264  0.813767  1.019373  0.722209  1.051894  \n",
       "27137  1.006487  1.106214  1.053717  1.025108  0.977091  0.983016  1.025240  \n",
       "27138  0.920692  0.649398  0.695482  0.870536  0.701932  0.688077  0.900566  \n",
       "\n",
       "[27139 rows x 270 columns]"
      ]
     },
     "execution_count": 23,
     "metadata": {},
     "output_type": "execute_result"
    }
   ],
   "source": [
    "x_train"
   ]
  },
  {
   "cell_type": "code",
   "execution_count": 24,
   "metadata": {},
   "outputs": [],
   "source": [
    "df_test=pd.read_csv('test.csv')\n",
    "x_test=df_test.drop(columns=['4608'])\n",
    "y_test=df_test['4608']"
   ]
  },
  {
   "cell_type": "code",
   "execution_count": 25,
   "metadata": {
    "ExecuteTime": {
     "end_time": "2023-01-02T20:51:37.868770Z",
     "start_time": "2023-01-02T20:51:37.716357Z"
    }
   },
   "outputs": [],
   "source": [
    "from sklearn.metrics import cohen_kappa_score, make_scorer,matthews_corrcoef\n",
    "\n",
    "       "
   ]
  },
  {
   "cell_type": "code",
   "execution_count": 26,
   "metadata": {
    "ExecuteTime": {
     "end_time": "2023-01-02T20:51:39.339001Z",
     "start_time": "2023-01-02T20:51:39.172204Z"
    }
   },
   "outputs": [],
   "source": [
    "from sklearn.ensemble import RandomForestClassifier"
   ]
  },
  {
   "cell_type": "code",
   "execution_count": 27,
   "metadata": {
    "ExecuteTime": {
     "end_time": "2023-01-03T16:31:53.176291Z",
     "start_time": "2023-01-03T16:31:52.863129Z"
    }
   },
   "outputs": [],
   "source": [
    "from sklearn import metrics\n",
    "from sklearn.model_selection import cross_val_score\n",
    "import math\n",
    "import xgboost as xgb\n",
    "\n",
    "\n",
    "def hyperopt_train_testxgb(params):\n",
    "\n",
    "    clf = xgb.XGBClassifier(learning_rate=params[0],\n",
    "                            colsample_bytree=params[1],\n",
    "                            gamma=params[2],\n",
    "                            n_jobs=-1,\n",
    "                            grow_policy='depthwise',\n",
    "                            max_depth=math.floor(params[3]),\n",
    "                            min_child_weight=math.floor(params[4]),\n",
    "                            subsample=params[5],\n",
    "                            booster='gbtree',\n",
    "                            eval_metric='logloss',\n",
    "                            num_parallel_tree=1,\n",
    "                            alpha=params[6])\n",
    "    clf.fit(x_train,y_train)\n",
    "    pred_xgb=clf.predict(x_test)\n",
    "    res=accuracy_score(y_test,pred_xgb)\n",
    "\n",
    "    return res\n",
    "\n",
    "\n",
    "def hyperopt_clf1(params):\n",
    "\n",
    "    clf = xgb.XGBClassifier(learning_rate=params[0],\n",
    "                            colsample_bytree=params[1],\n",
    "                            gamma=params[2],\n",
    "                            n_jobs=-1,\n",
    "                            grow_policy='depthwise',\n",
    "                            max_depth=math.floor(params[3]),\n",
    "                            min_child_weight=math.floor(params[4]),\n",
    "                            subsample=params[5],\n",
    "                            booster='gbtree',\n",
    "                            eval_metric='logloss',\n",
    "                            num_parallel_tree=1,\n",
    "                            alpha=params[6])\n",
    "\n",
    "    return clf\n",
    "\n",
    "\n",
    "def FXGB_1(params):\n",
    "    res = hyperopt_train_testxgb(params)\n",
    "    err = 1 - res\n",
    "    return err"
   ]
  },
  {
   "cell_type": "code",
   "execution_count": 28,
   "metadata": {
    "ExecuteTime": {
     "end_time": "2023-01-03T16:31:54.167151Z",
     "start_time": "2023-01-03T16:31:53.950730Z"
    }
   },
   "outputs": [],
   "source": [
    "import time"
   ]
  },
  {
   "cell_type": "code",
   "execution_count": 30,
   "metadata": {
    "ExecuteTime": {
     "end_time": "2023-01-03T22:58:38.152653Z",
     "start_time": "2023-01-03T16:31:54.864289Z"
    },
    "scrolled": true
   },
   "outputs": [
    {
     "name": "stderr",
     "output_type": "stream",
     "text": [
      "2023/01/27 11:33:15 PM, INFO, mealpy.swarm_based.AO.OriginalAO: Solving single objective optimization problem.\n",
      "2023/01/28 12:24:08 AM, INFO, mealpy.swarm_based.AO.OriginalAO: >Problem: P, Epoch: 1, Current best: 0.06791609353507566, Global best: 0.06791609353507566, Runtime: 2128.73837 seconds\n",
      "2023/01/28 01:01:15 AM, INFO, mealpy.swarm_based.AO.OriginalAO: >Problem: P, Epoch: 2, Current best: 0.06791609353507566, Global best: 0.06791609353507566, Runtime: 2226.60692 seconds\n",
      "2023/01/28 01:40:46 AM, INFO, mealpy.swarm_based.AO.OriginalAO: >Problem: P, Epoch: 3, Current best: 0.06791609353507566, Global best: 0.06791609353507566, Runtime: 2371.07413 seconds\n",
      "2023/01/28 02:21:20 AM, INFO, mealpy.swarm_based.AO.OriginalAO: >Problem: P, Epoch: 4, Current best: 0.06791609353507566, Global best: 0.06791609353507566, Runtime: 2433.63477 seconds\n",
      "2023/01/28 03:03:18 AM, INFO, mealpy.swarm_based.AO.OriginalAO: >Problem: P, Epoch: 5, Current best: 0.06791609353507566, Global best: 0.06791609353507566, Runtime: 2518.50633 seconds\n",
      "2023/01/28 03:43:56 AM, INFO, mealpy.swarm_based.AO.OriginalAO: >Problem: P, Epoch: 6, Current best: 0.06791609353507566, Global best: 0.06791609353507566, Runtime: 2438.17479 seconds\n",
      "2023/01/28 04:23:08 AM, INFO, mealpy.swarm_based.AO.OriginalAO: >Problem: P, Epoch: 7, Current best: 0.06791609353507566, Global best: 0.06791609353507566, Runtime: 2351.85961 seconds\n",
      "2023/01/28 05:01:06 AM, INFO, mealpy.swarm_based.AO.OriginalAO: >Problem: P, Epoch: 8, Current best: 0.06791609353507566, Global best: 0.06791609353507566, Runtime: 2277.61878 seconds\n",
      "2023/01/28 05:41:08 AM, INFO, mealpy.swarm_based.AO.OriginalAO: >Problem: P, Epoch: 9, Current best: 0.06791609353507566, Global best: 0.06791609353507566, Runtime: 2402.64875 seconds\n",
      "2023/01/28 06:21:43 AM, INFO, mealpy.swarm_based.AO.OriginalAO: >Problem: P, Epoch: 10, Current best: 0.06791609353507566, Global best: 0.06791609353507566, Runtime: 2434.20357 seconds\n",
      "2023/01/28 07:00:23 AM, INFO, mealpy.swarm_based.AO.OriginalAO: >Problem: P, Epoch: 11, Current best: 0.06791609353507566, Global best: 0.06791609353507566, Runtime: 2320.41885 seconds\n",
      "2023/01/28 07:38:52 AM, INFO, mealpy.swarm_based.AO.OriginalAO: >Problem: P, Epoch: 12, Current best: 0.06791609353507566, Global best: 0.06791609353507566, Runtime: 2308.50624 seconds\n",
      "2023/01/28 08:19:09 AM, INFO, mealpy.swarm_based.AO.OriginalAO: >Problem: P, Epoch: 13, Current best: 0.06791609353507566, Global best: 0.06791609353507566, Runtime: 2417.46402 seconds\n",
      "2023/01/28 08:58:20 AM, INFO, mealpy.swarm_based.AO.OriginalAO: >Problem: P, Epoch: 14, Current best: 0.06791609353507566, Global best: 0.06791609353507566, Runtime: 2350.59247 seconds\n",
      "2023/01/28 09:33:43 AM, INFO, mealpy.swarm_based.AO.OriginalAO: >Problem: P, Epoch: 15, Current best: 0.06791609353507566, Global best: 0.06791609353507566, Runtime: 2123.71235 seconds\n",
      "2023/01/28 10:11:27 AM, INFO, mealpy.swarm_based.AO.OriginalAO: >Problem: P, Epoch: 16, Current best: 0.06791609353507566, Global best: 0.06791609353507566, Runtime: 2263.34655 seconds\n",
      "2023/01/28 10:48:39 AM, INFO, mealpy.swarm_based.AO.OriginalAO: >Problem: P, Epoch: 17, Current best: 0.06791609353507566, Global best: 0.06791609353507566, Runtime: 2232.59191 seconds\n",
      "2023/01/28 11:22:42 AM, INFO, mealpy.swarm_based.AO.OriginalAO: >Problem: P, Epoch: 18, Current best: 0.06791609353507566, Global best: 0.06791609353507566, Runtime: 2042.44557 seconds\n",
      "2023/01/28 11:59:41 AM, INFO, mealpy.swarm_based.AO.OriginalAO: >Problem: P, Epoch: 19, Current best: 0.06791609353507566, Global best: 0.06791609353507566, Runtime: 2219.28487 seconds\n",
      "2023/01/28 12:35:44 PM, INFO, mealpy.swarm_based.AO.OriginalAO: >Problem: P, Epoch: 20, Current best: 0.06791609353507566, Global best: 0.06791609353507566, Runtime: 2162.60506 seconds\n",
      "2023/01/28 01:14:53 PM, INFO, mealpy.swarm_based.AO.OriginalAO: >Problem: P, Epoch: 21, Current best: 0.06791609353507566, Global best: 0.06791609353507566, Runtime: 2349.60822 seconds\n",
      "2023/01/28 01:51:38 PM, INFO, mealpy.swarm_based.AO.OriginalAO: >Problem: P, Epoch: 22, Current best: 0.06791609353507566, Global best: 0.06791609353507566, Runtime: 2204.27381 seconds\n",
      "2023/01/28 02:30:00 PM, INFO, mealpy.swarm_based.AO.OriginalAO: >Problem: P, Epoch: 23, Current best: 0.06791609353507566, Global best: 0.06791609353507566, Runtime: 2302.50383 seconds\n",
      "2023/01/28 03:02:37 PM, INFO, mealpy.swarm_based.AO.OriginalAO: >Problem: P, Epoch: 24, Current best: 0.06791609353507566, Global best: 0.06791609353507566, Runtime: 1956.53177 seconds\n",
      "2023/01/28 03:38:56 PM, INFO, mealpy.swarm_based.AO.OriginalAO: >Problem: P, Epoch: 25, Current best: 0.06791609353507566, Global best: 0.06791609353507566, Runtime: 2179.57617 seconds\n",
      "2023/01/28 04:12:31 PM, INFO, mealpy.swarm_based.AO.OriginalAO: >Problem: P, Epoch: 26, Current best: 0.06791609353507566, Global best: 0.06791609353507566, Runtime: 2014.83259 seconds\n",
      "2023/01/28 04:44:37 PM, INFO, mealpy.swarm_based.AO.OriginalAO: >Problem: P, Epoch: 27, Current best: 0.06791609353507566, Global best: 0.06791609353507566, Runtime: 1925.84913 seconds\n",
      "2023/01/28 05:22:51 PM, INFO, mealpy.swarm_based.AO.OriginalAO: >Problem: P, Epoch: 28, Current best: 0.06791609353507566, Global best: 0.06791609353507566, Runtime: 2294.37165 seconds\n",
      "2023/01/28 05:57:12 PM, INFO, mealpy.swarm_based.AO.OriginalAO: >Problem: P, Epoch: 29, Current best: 0.06791609353507566, Global best: 0.06791609353507566, Runtime: 2061.00681 seconds\n",
      "2023/01/28 06:32:13 PM, INFO, mealpy.swarm_based.AO.OriginalAO: >Problem: P, Epoch: 30, Current best: 0.06791609353507566, Global best: 0.06791609353507566, Runtime: 2100.92901 seconds\n",
      "2023/01/28 07:07:50 PM, INFO, mealpy.swarm_based.AO.OriginalAO: >Problem: P, Epoch: 31, Current best: 0.06791609353507566, Global best: 0.06791609353507566, Runtime: 2136.41385 seconds\n",
      "2023/01/28 07:45:48 PM, INFO, mealpy.swarm_based.AO.OriginalAO: >Problem: P, Epoch: 32, Current best: 0.06791609353507566, Global best: 0.06791609353507566, Runtime: 2278.61605 seconds\n",
      "2023/01/28 08:22:13 PM, INFO, mealpy.swarm_based.AO.OriginalAO: >Problem: P, Epoch: 33, Current best: 0.06791609353507566, Global best: 0.06791609353507566, Runtime: 2184.72234 seconds\n",
      "2023/01/28 08:58:56 PM, INFO, mealpy.swarm_based.AO.OriginalAO: >Problem: P, Epoch: 34, Current best: 0.06791609353507566, Global best: 0.06791609353507566, Runtime: 2202.76373 seconds\n",
      "2023/01/28 09:36:17 PM, INFO, mealpy.swarm_based.AO.OriginalAO: >Problem: P, Epoch: 35, Current best: 0.06791609353507566, Global best: 0.06791609353507566, Runtime: 2241.57234 seconds\n",
      "2023/01/28 10:13:44 PM, INFO, mealpy.swarm_based.AO.OriginalAO: >Problem: P, Epoch: 36, Current best: 0.06791609353507566, Global best: 0.06791609353507566, Runtime: 2246.24780 seconds\n",
      "2023/01/28 10:44:58 PM, INFO, mealpy.swarm_based.AO.OriginalAO: >Problem: P, Epoch: 37, Current best: 0.06791609353507566, Global best: 0.06791609353507566, Runtime: 1874.73556 seconds\n",
      "2023/01/28 11:19:26 PM, INFO, mealpy.swarm_based.AO.OriginalAO: >Problem: P, Epoch: 38, Current best: 0.06791609353507566, Global best: 0.06791609353507566, Runtime: 2067.97764 seconds\n",
      "2023/01/28 11:56:15 PM, INFO, mealpy.swarm_based.AO.OriginalAO: >Problem: P, Epoch: 39, Current best: 0.06791609353507566, Global best: 0.06791609353507566, Runtime: 2209.01241 seconds\n",
      "2023/01/29 12:28:01 AM, INFO, mealpy.swarm_based.AO.OriginalAO: >Problem: P, Epoch: 40, Current best: 0.06791609353507566, Global best: 0.06791609353507566, Runtime: 1905.63217 seconds\n",
      "2023/01/29 01:05:28 AM, INFO, mealpy.swarm_based.AO.OriginalAO: >Problem: P, Epoch: 41, Current best: 0.06791609353507566, Global best: 0.06791609353507566, Runtime: 2246.85565 seconds\n",
      "2023/01/29 01:40:40 AM, INFO, mealpy.swarm_based.AO.OriginalAO: >Problem: P, Epoch: 42, Current best: 0.06791609353507566, Global best: 0.06791609353507566, Runtime: 2112.00566 seconds\n",
      "2023/01/29 02:15:45 AM, INFO, mealpy.swarm_based.AO.OriginalAO: >Problem: P, Epoch: 43, Current best: 0.06791609353507566, Global best: 0.06791609353507566, Runtime: 2105.48974 seconds\n",
      "2023/01/29 02:50:22 AM, INFO, mealpy.swarm_based.AO.OriginalAO: >Problem: P, Epoch: 44, Current best: 0.06791609353507566, Global best: 0.06791609353507566, Runtime: 2077.20149 seconds\n"
     ]
    },
    {
     "name": "stderr",
     "output_type": "stream",
     "text": [
      "2023/01/29 03:21:32 AM, INFO, mealpy.swarm_based.AO.OriginalAO: >Problem: P, Epoch: 45, Current best: 0.06791609353507566, Global best: 0.06791609353507566, Runtime: 1869.22459 seconds\n",
      "2023/01/29 03:54:14 AM, INFO, mealpy.swarm_based.AO.OriginalAO: >Problem: P, Epoch: 46, Current best: 0.06791609353507566, Global best: 0.06791609353507566, Runtime: 1962.26229 seconds\n",
      "2023/01/29 04:30:20 AM, INFO, mealpy.swarm_based.AO.OriginalAO: >Problem: P, Epoch: 47, Current best: 0.06791609353507566, Global best: 0.06791609353507566, Runtime: 2166.30265 seconds\n",
      "2023/01/29 05:09:10 AM, INFO, mealpy.swarm_based.AO.OriginalAO: >Problem: P, Epoch: 48, Current best: 0.06791609353507566, Global best: 0.06791609353507566, Runtime: 2330.20065 seconds\n",
      "2023/01/29 05:41:32 AM, INFO, mealpy.swarm_based.AO.OriginalAO: >Problem: P, Epoch: 49, Current best: 0.06791609353507566, Global best: 0.06791609353507566, Runtime: 1941.91292 seconds\n",
      "2023/01/29 06:17:01 AM, INFO, mealpy.swarm_based.AO.OriginalAO: >Problem: P, Epoch: 50, Current best: 0.06791609353507566, Global best: 0.06791609353507566, Runtime: 2128.76328 seconds\n",
      "2023/01/29 06:49:18 AM, INFO, mealpy.swarm_based.AO.OriginalAO: >Problem: P, Epoch: 51, Current best: 0.06791609353507566, Global best: 0.06791609353507566, Runtime: 1937.11658 seconds\n",
      "2023/01/29 07:22:10 AM, INFO, mealpy.swarm_based.AO.OriginalAO: >Problem: P, Epoch: 52, Current best: 0.06791609353507566, Global best: 0.06791609353507566, Runtime: 1971.89230 seconds\n",
      "2023/01/29 07:54:00 AM, INFO, mealpy.swarm_based.AO.OriginalAO: >Problem: P, Epoch: 53, Current best: 0.06791609353507566, Global best: 0.06791609353507566, Runtime: 1909.43026 seconds\n",
      "2023/01/29 08:27:38 AM, INFO, mealpy.swarm_based.AO.OriginalAO: >Problem: P, Epoch: 54, Current best: 0.06791609353507566, Global best: 0.06791609353507566, Runtime: 2018.41622 seconds\n",
      "2023/01/29 08:55:50 AM, INFO, mealpy.swarm_based.AO.OriginalAO: >Problem: P, Epoch: 55, Current best: 0.06791609353507566, Global best: 0.06791609353507566, Runtime: 1691.89823 seconds\n",
      "2023/01/29 09:28:33 AM, INFO, mealpy.swarm_based.AO.OriginalAO: >Problem: P, Epoch: 56, Current best: 0.06791609353507566, Global best: 0.06791609353507566, Runtime: 1963.13315 seconds\n",
      "2023/01/29 09:58:26 AM, INFO, mealpy.swarm_based.AO.OriginalAO: >Problem: P, Epoch: 57, Current best: 0.06791609353507566, Global best: 0.06791609353507566, Runtime: 1793.26919 seconds\n",
      "2023/01/29 10:28:08 AM, INFO, mealpy.swarm_based.AO.OriginalAO: >Problem: P, Epoch: 58, Current best: 0.06791609353507566, Global best: 0.06791609353507566, Runtime: 1781.61532 seconds\n",
      "2023/01/29 11:01:43 AM, INFO, mealpy.swarm_based.AO.OriginalAO: >Problem: P, Epoch: 59, Current best: 0.06791609353507566, Global best: 0.06791609353507566, Runtime: 2014.53247 seconds\n",
      "2023/01/29 11:33:41 AM, INFO, mealpy.swarm_based.AO.OriginalAO: >Problem: P, Epoch: 60, Current best: 0.06791609353507566, Global best: 0.06791609353507566, Runtime: 1918.12244 seconds\n",
      "2023/01/29 12:05:38 PM, INFO, mealpy.swarm_based.AO.OriginalAO: >Problem: P, Epoch: 61, Current best: 0.06791609353507566, Global best: 0.06791609353507566, Runtime: 1917.50885 seconds\n",
      "2023/01/29 12:38:54 PM, INFO, mealpy.swarm_based.AO.OriginalAO: >Problem: P, Epoch: 62, Current best: 0.06791609353507566, Global best: 0.06791609353507566, Runtime: 1996.28696 seconds\n",
      "2023/01/29 01:13:28 PM, INFO, mealpy.swarm_based.AO.OriginalAO: >Problem: P, Epoch: 63, Current best: 0.06791609353507566, Global best: 0.06791609353507566, Runtime: 2073.73704 seconds\n",
      "2023/01/29 01:43:33 PM, INFO, mealpy.swarm_based.AO.OriginalAO: >Problem: P, Epoch: 64, Current best: 0.06791609353507566, Global best: 0.06791609353507566, Runtime: 1804.99096 seconds\n",
      "2023/01/29 02:16:55 PM, INFO, mealpy.swarm_based.AO.OriginalAO: >Problem: P, Epoch: 65, Current best: 0.06791609353507566, Global best: 0.06791609353507566, Runtime: 2001.55524 seconds\n",
      "2023/01/29 02:46:37 PM, INFO, mealpy.swarm_based.AO.OriginalAO: >Problem: P, Epoch: 66, Current best: 0.06791609353507566, Global best: 0.06791609353507566, Runtime: 1782.69089 seconds\n",
      "2023/01/29 03:12:29 PM, INFO, mealpy.swarm_based.AO.OriginalAO: >Problem: P, Epoch: 67, Current best: 0.06791609353507566, Global best: 0.06791609353507566, Runtime: 1551.43433 seconds\n",
      "2023/01/29 03:47:38 PM, INFO, mealpy.swarm_based.AO.OriginalAO: >Problem: P, Epoch: 68, Current best: 0.06791609353507566, Global best: 0.06791609353507566, Runtime: 2109.12750 seconds\n",
      "2023/01/29 03:57:44 PM, INFO, mealpy.swarm_based.AO.OriginalAO: >Problem: P, Epoch: 69, Current best: 0.06791609353507566, Global best: 0.06791609353507566, Runtime: 605.96599 seconds\n",
      "2023/01/29 04:16:17 PM, INFO, mealpy.swarm_based.AO.OriginalAO: >Problem: P, Epoch: 70, Current best: 0.06791609353507566, Global best: 0.06791609353507566, Runtime: 1113.43576 seconds\n",
      "2023/01/29 04:29:12 PM, INFO, mealpy.swarm_based.AO.OriginalAO: >Problem: P, Epoch: 71, Current best: 0.06791609353507566, Global best: 0.06791609353507566, Runtime: 774.32745 seconds\n",
      "2023/01/29 04:45:30 PM, INFO, mealpy.swarm_based.AO.OriginalAO: >Problem: P, Epoch: 72, Current best: 0.06791609353507566, Global best: 0.06791609353507566, Runtime: 978.01213 seconds\n",
      "2023/01/29 05:11:26 PM, INFO, mealpy.swarm_based.AO.OriginalAO: >Problem: P, Epoch: 73, Current best: 0.06791609353507566, Global best: 0.06791609353507566, Runtime: 1555.89506 seconds\n",
      "2023/01/29 05:23:45 PM, INFO, mealpy.swarm_based.AO.OriginalAO: >Problem: P, Epoch: 74, Current best: 0.06791609353507566, Global best: 0.06791609353507566, Runtime: 739.23043 seconds\n",
      "2023/01/29 05:34:31 PM, INFO, mealpy.swarm_based.AO.OriginalAO: >Problem: P, Epoch: 75, Current best: 0.06791609353507566, Global best: 0.06791609353507566, Runtime: 646.21022 seconds\n",
      "2023/01/29 06:02:25 PM, INFO, mealpy.swarm_based.AO.OriginalAO: >Problem: P, Epoch: 76, Current best: 0.06791609353507566, Global best: 0.06791609353507566, Runtime: 1673.69735 seconds\n",
      "2023/01/29 06:19:19 PM, INFO, mealpy.swarm_based.AO.OriginalAO: >Problem: P, Epoch: 77, Current best: 0.06791609353507566, Global best: 0.06791609353507566, Runtime: 1013.45296 seconds\n",
      "2023/01/29 06:29:50 PM, INFO, mealpy.swarm_based.AO.OriginalAO: >Problem: P, Epoch: 78, Current best: 0.06791609353507566, Global best: 0.06791609353507566, Runtime: 631.97254 seconds\n",
      "2023/01/29 06:59:17 PM, INFO, mealpy.swarm_based.AO.OriginalAO: >Problem: P, Epoch: 79, Current best: 0.06791609353507566, Global best: 0.06791609353507566, Runtime: 1766.15552 seconds\n",
      "2023/01/29 07:21:54 PM, INFO, mealpy.swarm_based.AO.OriginalAO: >Problem: P, Epoch: 80, Current best: 0.06748624484181565, Global best: 0.06748624484181565, Runtime: 1357.52820 seconds\n",
      "2023/01/29 07:44:47 PM, INFO, mealpy.swarm_based.AO.OriginalAO: >Problem: P, Epoch: 81, Current best: 0.06748624484181565, Global best: 0.06748624484181565, Runtime: 1372.42792 seconds\n",
      "2023/01/29 08:13:27 PM, INFO, mealpy.swarm_based.AO.OriginalAO: >Problem: P, Epoch: 82, Current best: 0.06748624484181565, Global best: 0.06748624484181565, Runtime: 1720.65528 seconds\n",
      "2023/01/29 08:26:17 PM, INFO, mealpy.swarm_based.AO.OriginalAO: >Problem: P, Epoch: 83, Current best: 0.06748624484181565, Global best: 0.06748624484181565, Runtime: 770.21462 seconds\n",
      "2023/01/29 08:42:01 PM, INFO, mealpy.swarm_based.AO.OriginalAO: >Problem: P, Epoch: 84, Current best: 0.06748624484181565, Global best: 0.06748624484181565, Runtime: 943.13534 seconds\n",
      "2023/01/29 09:18:26 PM, INFO, mealpy.swarm_based.AO.OriginalAO: >Problem: P, Epoch: 85, Current best: 0.06748624484181565, Global best: 0.06748624484181565, Runtime: 2185.35646 seconds\n",
      "2023/01/29 09:43:41 PM, INFO, mealpy.swarm_based.AO.OriginalAO: >Problem: P, Epoch: 86, Current best: 0.06748624484181565, Global best: 0.06748624484181565, Runtime: 1514.91561 seconds\n",
      "2023/01/29 09:58:08 PM, INFO, mealpy.swarm_based.AO.OriginalAO: >Problem: P, Epoch: 87, Current best: 0.06748624484181565, Global best: 0.06748624484181565, Runtime: 866.66689 seconds\n",
      "2023/01/29 10:33:26 PM, INFO, mealpy.swarm_based.AO.OriginalAO: >Problem: P, Epoch: 88, Current best: 0.06748624484181565, Global best: 0.06748624484181565, Runtime: 2118.07864 seconds\n",
      "2023/01/29 10:56:38 PM, INFO, mealpy.swarm_based.AO.OriginalAO: >Problem: P, Epoch: 89, Current best: 0.06748624484181565, Global best: 0.06748624484181565, Runtime: 1391.91429 seconds\n"
     ]
    },
    {
     "name": "stderr",
     "output_type": "stream",
     "text": [
      "2023/01/29 11:05:49 PM, INFO, mealpy.swarm_based.AO.OriginalAO: >Problem: P, Epoch: 90, Current best: 0.06748624484181565, Global best: 0.06748624484181565, Runtime: 551.39201 seconds\n",
      "2023/01/29 11:23:47 PM, INFO, mealpy.swarm_based.AO.OriginalAO: >Problem: P, Epoch: 91, Current best: 0.06748624484181565, Global best: 0.06748624484181565, Runtime: 1078.36411 seconds\n",
      "2023/01/29 11:37:06 PM, INFO, mealpy.swarm_based.AO.OriginalAO: >Problem: P, Epoch: 92, Current best: 0.06748624484181565, Global best: 0.06748624484181565, Runtime: 798.23879 seconds\n",
      "2023/01/29 11:49:22 PM, INFO, mealpy.swarm_based.AO.OriginalAO: >Problem: P, Epoch: 93, Current best: 0.06748624484181565, Global best: 0.06748624484181565, Runtime: 736.84542 seconds\n",
      "2023/01/30 12:22:24 AM, INFO, mealpy.swarm_based.AO.OriginalAO: >Problem: P, Epoch: 94, Current best: 0.06748624484181565, Global best: 0.06748624484181565, Runtime: 1981.81640 seconds\n",
      "2023/01/30 12:59:25 AM, INFO, mealpy.swarm_based.AO.OriginalAO: >Problem: P, Epoch: 95, Current best: 0.06748624484181565, Global best: 0.06748624484181565, Runtime: 2221.14915 seconds\n",
      "2023/01/30 01:12:36 AM, INFO, mealpy.swarm_based.AO.OriginalAO: >Problem: P, Epoch: 96, Current best: 0.06748624484181565, Global best: 0.06748624484181565, Runtime: 790.66911 seconds\n",
      "2023/01/30 01:35:22 AM, INFO, mealpy.swarm_based.AO.OriginalAO: >Problem: P, Epoch: 97, Current best: 0.06748624484181565, Global best: 0.06748624484181565, Runtime: 1365.51548 seconds\n",
      "2023/01/30 02:04:05 AM, INFO, mealpy.swarm_based.AO.OriginalAO: >Problem: P, Epoch: 98, Current best: 0.06748624484181565, Global best: 0.06748624484181565, Runtime: 1723.16867 seconds\n",
      "2023/01/30 02:39:33 AM, INFO, mealpy.swarm_based.AO.OriginalAO: >Problem: P, Epoch: 99, Current best: 0.06748624484181565, Global best: 0.06748624484181565, Runtime: 2128.29772 seconds\n",
      "2023/01/30 03:05:00 AM, INFO, mealpy.swarm_based.AO.OriginalAO: >Problem: P, Epoch: 100, Current best: 0.06748624484181565, Global best: 0.06748624484181565, Runtime: 1526.73141 seconds\n"
     ]
    }
   ],
   "source": [
    "start_o = time.time()\n",
    "from sys import argv,exit\n",
    "lb=[0.000000000000001,0.001,0.000000001,1,1,0.001,0.000001]\n",
    "ub=[0.9,1,1,200,200,1,1]\n",
    "\n",
    "\n",
    "\n",
    "problem_dict1 = {\n",
    "    \"fit_func\": FXGB_1,\n",
    "    \"lb\": lb,\n",
    "    \"ub\": ub,\n",
    "    \"minmax\": \"min\",\n",
    "     \n",
    "    \n",
    "}\n",
    "md1 = OriginalAO(epoch=100, pop_size=250)\n",
    "best_position, best_fitness= md1.solve(problem=problem_dict1,n_workers=-1)\n",
    "\n"
   ]
  },
  {
   "cell_type": "code",
   "execution_count": 31,
   "metadata": {
    "ExecuteTime": {
     "end_time": "2023-01-04T02:52:45.683696Z",
     "start_time": "2023-01-04T02:52:45.374522Z"
    }
   },
   "outputs": [
    {
     "data": {
      "text/plain": [
       "0.06748624484181565"
      ]
     },
     "execution_count": 31,
     "metadata": {},
     "output_type": "execute_result"
    }
   ],
   "source": [
    "best_fitness"
   ]
  },
  {
   "cell_type": "code",
   "execution_count": 32,
   "metadata": {
    "ExecuteTime": {
     "end_time": "2023-01-04T02:52:46.534422Z",
     "start_time": "2023-01-04T02:52:46.318998Z"
    }
   },
   "outputs": [
    {
     "name": "stdout",
     "output_type": "stream",
     "text": [
      "0.06748624484181565\n"
     ]
    }
   ],
   "source": [
    "print(best_fitness)"
   ]
  },
  {
   "cell_type": "code",
   "execution_count": 33,
   "metadata": {
    "ExecuteTime": {
     "end_time": "2023-01-04T02:52:47.625505Z",
     "start_time": "2023-01-04T02:52:47.422049Z"
    }
   },
   "outputs": [
    {
     "name": "stdout",
     "output_type": "stream",
     "text": [
      "[  0.32740024   0.65086881   0.38357499 108.3667139    6.24752132\n",
      "   0.80039796   0.64532741]\n"
     ]
    }
   ],
   "source": [
    "print(best_position)   "
   ]
  },
  {
   "cell_type": "code",
   "execution_count": 34,
   "metadata": {},
   "outputs": [
    {
     "name": "stdout",
     "output_type": "stream",
     "text": [
      "Time elapsed:  185508.1466703415\n"
     ]
    }
   ],
   "source": [
    "print(\"Time elapsed: \", time.time() - start_o) # ei time ta lagbe amader! "
   ]
  },
  {
   "cell_type": "code",
   "execution_count": 35,
   "metadata": {
    "ExecuteTime": {
     "end_time": "2023-01-04T02:54:37.402291Z",
     "start_time": "2023-01-04T02:52:49.315986Z"
    }
   },
   "outputs": [
    {
     "name": "stdout",
     "output_type": "stream",
     "text": [
      "              precision    recall  f1-score   support\n",
      "\n",
      "         0.0       0.94      0.99      0.96     10129\n",
      "         1.0       0.88      0.55      0.68      1503\n",
      "\n",
      "    accuracy                           0.93     11632\n",
      "   macro avg       0.91      0.77      0.82     11632\n",
      "weighted avg       0.93      0.93      0.93     11632\n",
      "\n",
      "0.643194868763397\n"
     ]
    }
   ],
   "source": [
    "clf=hyperopt_clf1(best_position)\n",
    "XGB_AO=clf.fit(x_train, y_train)\n",
    "\n",
    "XGB_AO_predict=XGB_AO.predict(x_test)\n",
    "\n",
    "from sklearn.metrics import classification_report\n",
    "print(classification_report(y_test, XGB_AO_predict))\n",
    "from sklearn.metrics import cohen_kappa_score\n",
    "print(cohen_kappa_score(y_test, XGB_AO_predict))"
   ]
  },
  {
   "cell_type": "code",
   "execution_count": 36,
   "metadata": {
    "ExecuteTime": {
     "end_time": "2023-01-04T02:54:54.950388Z",
     "start_time": "2023-01-04T02:54:54.776851Z"
    }
   },
   "outputs": [
    {
     "name": "stdout",
     "output_type": "stream",
     "text": [
      "0.9325137551581844\n"
     ]
    }
   ],
   "source": [
    "print(accuracy_score(y_test, XGB_AO_predict))"
   ]
  },
  {
   "cell_type": "code",
   "execution_count": 37,
   "metadata": {
    "ExecuteTime": {
     "end_time": "2023-01-04T02:54:56.844325Z",
     "start_time": "2023-01-04T02:54:56.625908Z"
    }
   },
   "outputs": [
    {
     "name": "stdout",
     "output_type": "stream",
     "text": [
      "0.643194868763397\n"
     ]
    }
   ],
   "source": [
    "print(cohen_kappa_score(y_test, XGB_AO_predict))"
   ]
  },
  {
   "cell_type": "code",
   "execution_count": 39,
   "metadata": {
    "ExecuteTime": {
     "end_time": "2023-01-04T02:54:58.803088Z",
     "start_time": "2023-01-04T02:54:58.571707Z"
    }
   },
   "outputs": [],
   "source": [
    "import pickle\n",
    "# save the model to disk\n",
    "filename = 'optimized_XGB_model_usingoriginalAO_250_pop_100_epoch_acc.sav'\n",
    "pickle.dump(XGB_AO, open(filename, 'wb'))"
   ]
  },
  {
   "cell_type": "code",
   "execution_count": null,
   "metadata": {
    "ExecuteTime": {
     "end_time": "2022-08-27T05:53:14.627350Z",
     "start_time": "2022-08-27T05:53:10.507185Z"
    }
   },
   "outputs": [],
   "source": [
    "## You can access them all via object \"history\" like this:\n",
    "md1.history.save_global_objectives_chart(filename=\"XGB_AO_original/goc\")\n",
    "md1.history.save_local_objectives_chart(filename=\"XGB_AO_original/loc\")\n",
    "\n",
    "md1.history.save_global_best_fitness_chart(filename=\"XGB_AO_original/gbfc\")\n",
    "md1.history.save_local_best_fitness_chart(filename=\"XGB_AO_original/lbfc\")\n",
    "\n",
    "md1.history.save_runtime_chart(filename=\"XGB_AO_original/rtc\")\n",
    "\n",
    "md1.history.save_exploration_exploitation_chart(filename=\"XGBXGB_AO_originalAO/eec\")\n",
    "\n",
    "md1.history.save_diversity_chart(filename=\"XGB_AO_original/dc\")\n",
    "\n",
    "md1.history.save_trajectory_chart(list_agent_idx=[3, 5], selected_dimensions=[3], filename=\"XGB_AO_original/tc\")"
   ]
  },
  {
   "cell_type": "code",
   "execution_count": 25,
   "metadata": {},
   "outputs": [],
   "source": [
    "df_train=pd.concat([x_train, y_train], axis=1)\n",
    "df_test=pd.concat([x_test, y_test], axis=1)"
   ]
  },
  {
   "cell_type": "code",
   "execution_count": 26,
   "metadata": {},
   "outputs": [],
   "source": [
    "df_train.to_csv('train_without_modi.csv',index=False)\n",
    "df_test.to_csv('test_without_modi.csv',index=False)"
   ]
  },
  {
   "cell_type": "code",
   "execution_count": null,
   "metadata": {},
   "outputs": [],
   "source": []
  }
 ],
 "metadata": {
  "kernelspec": {
   "display_name": "Python 3 (ipykernel)",
   "language": "python",
   "name": "python3"
  },
  "language_info": {
   "codemirror_mode": {
    "name": "ipython",
    "version": 3
   },
   "file_extension": ".py",
   "mimetype": "text/x-python",
   "name": "python",
   "nbconvert_exporter": "python",
   "pygments_lexer": "ipython3",
   "version": "3.9.13"
  },
  "toc": {
   "base_numbering": 1,
   "nav_menu": {},
   "number_sections": true,
   "sideBar": true,
   "skip_h1_title": false,
   "title_cell": "Table of Contents",
   "title_sidebar": "Contents",
   "toc_cell": false,
   "toc_position": {},
   "toc_section_display": true,
   "toc_window_display": false
  },
  "varInspector": {
   "cols": {
    "lenName": 16,
    "lenType": 16,
    "lenVar": 40
   },
   "kernels_config": {
    "python": {
     "delete_cmd_postfix": "",
     "delete_cmd_prefix": "del ",
     "library": "var_list.py",
     "varRefreshCmd": "print(var_dic_list())"
    },
    "r": {
     "delete_cmd_postfix": ") ",
     "delete_cmd_prefix": "rm(",
     "library": "var_list.r",
     "varRefreshCmd": "cat(var_dic_list()) "
    }
   },
   "oldHeight": 455.85,
   "position": {
    "height": "40px",
    "left": "716px",
    "right": "20px",
    "top": "120px",
    "width": "800px"
   },
   "types_to_exclude": [
    "module",
    "function",
    "builtin_function_or_method",
    "instance",
    "_Feature"
   ],
   "varInspector_section_display": "none",
   "window_display": true
  }
 },
 "nbformat": 4,
 "nbformat_minor": 4
}
