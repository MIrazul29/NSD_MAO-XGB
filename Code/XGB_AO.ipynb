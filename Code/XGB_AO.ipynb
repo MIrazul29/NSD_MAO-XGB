{
 "cells": [
  {
   "cell_type": "code",
   "execution_count": 1,
   "metadata": {
    "ExecuteTime": {
     "end_time": "2023-01-02T20:28:16.213410Z",
     "start_time": "2023-01-02T20:28:10.532595Z"
    }
   },
   "outputs": [],
   "source": [
    "import numpy as np\n",
    "import pandas as pd\n",
    "import matplotlib.pylab as plt\n",
    "plt.style.use('seaborn-white')\n",
    "%matplotlib inline\n",
    "    \n",
    "import xgboost as xgb\n",
    "from sklearn.model_selection import  train_test_split\n",
    "# Models\n",
    "from sklearn.ensemble import RandomForestClassifier, GradientBoostingClassifier\n",
    "from sklearn.neighbors import KNeighborsClassifier\n",
    "from sklearn.linear_model import LogisticRegression\n",
    "from sklearn.svm import SVC, LinearSVC\n",
    "from sklearn.tree import DecisionTreeClassifier\n",
    "from sklearn.naive_bayes import BernoulliNB\n",
    "from sklearn.discriminant_analysis import LinearDiscriminantAnalysis\n",
    "from sklearn.discriminant_analysis import QuadraticDiscriminantAnalysis\n",
    "from sklearn.metrics import *\n",
    "# Helper functions\n",
    "from sklearn import metrics\n",
    "from sklearn.preprocessing import MinMaxScaler\n",
    "\n",
    "from sklearn.metrics import accuracy_score\n",
    "from sklearn.model_selection import cross_val_score\n",
    "from sklearn.model_selection import StratifiedShuffleSplit\n",
    "from hyperopt import fmin, tpe, hp, STATUS_OK, Trials\n",
    "from imblearn.over_sampling import ADASYN\n",
    "\n",
    "import warnings\n",
    "warnings.filterwarnings(\"ignore\")\n",
    "\n",
    "%reload_ext autoreload\n",
    "%autoreload 2\n",
    "import numpy as np "
   ]
  },
  {
   "cell_type": "code",
   "execution_count": null,
   "metadata": {
    "ExecuteTime": {
     "end_time": "2022-08-26T06:35:01.880718Z",
     "start_time": "2022-08-26T06:35:01.675184Z"
    }
   },
   "outputs": [],
   "source": []
  },
  {
   "cell_type": "code",
   "execution_count": 2,
   "metadata": {
    "ExecuteTime": {
     "end_time": "2023-01-02T20:28:17.094053Z",
     "start_time": "2023-01-02T20:28:16.692129Z"
    }
   },
   "outputs": [],
   "source": [
    "import mealpy "
   ]
  },
  {
   "cell_type": "code",
   "execution_count": 3,
   "metadata": {
    "ExecuteTime": {
     "end_time": "2023-01-02T20:28:17.828092Z",
     "start_time": "2023-01-02T20:28:17.597709Z"
    }
   },
   "outputs": [],
   "source": [
    "from mealpy.swarm_based.AO import OriginalAO"
   ]
  },
  {
   "cell_type": "code",
   "execution_count": 4,
   "metadata": {
    "ExecuteTime": {
     "end_time": "2023-01-02T20:28:20.542931Z",
     "start_time": "2023-01-02T20:28:18.367745Z"
    }
   },
   "outputs": [
    {
     "ename": "ImportError",
     "evalue": "cannot import name 'BaseHGSO' from 'mealpy.physics_based.HGSO' (C:\\Users\\dodul\\anaconda3\\lib\\site-packages\\mealpy\\physics_based\\HGSO.py)",
     "output_type": "error",
     "traceback": [
      "\u001b[1;31m---------------------------------------------------------------------------\u001b[0m",
      "\u001b[1;31mImportError\u001b[0m                               Traceback (most recent call last)",
      "Input \u001b[1;32mIn [4]\u001b[0m, in \u001b[0;36m<cell line: 2>\u001b[1;34m()\u001b[0m\n\u001b[0;32m      1\u001b[0m \u001b[38;5;28;01mfrom\u001b[39;00m \u001b[38;5;21;01mopfunu\u001b[39;00m\u001b[38;5;21;01m.\u001b[39;00m\u001b[38;5;21;01mcec_basic\u001b[39;00m\u001b[38;5;21;01m.\u001b[39;00m\u001b[38;5;21;01mcec2014_nobias\u001b[39;00m \u001b[38;5;28;01mimport\u001b[39;00m \u001b[38;5;241m*\u001b[39m\n\u001b[1;32m----> 2\u001b[0m \u001b[38;5;28;01mfrom\u001b[39;00m \u001b[38;5;21;01mmealpy\u001b[39;00m\u001b[38;5;21;01m.\u001b[39;00m\u001b[38;5;21;01mphysics_based\u001b[39;00m\u001b[38;5;21;01m.\u001b[39;00m\u001b[38;5;21;01mHGSO\u001b[39;00m \u001b[38;5;28;01mimport\u001b[39;00m BaseHGSO\n\u001b[0;32m      3\u001b[0m \u001b[38;5;28;01mfrom\u001b[39;00m \u001b[38;5;21;01msklearn\u001b[39;00m\u001b[38;5;21;01m.\u001b[39;00m\u001b[38;5;21;01mmodel_selection\u001b[39;00m \u001b[38;5;28;01mimport\u001b[39;00m train_test_split\n",
      "\u001b[1;31mImportError\u001b[0m: cannot import name 'BaseHGSO' from 'mealpy.physics_based.HGSO' (C:\\Users\\dodul\\anaconda3\\lib\\site-packages\\mealpy\\physics_based\\HGSO.py)"
     ]
    }
   ],
   "source": [
    "from opfunu.cec_basic.cec2014_nobias import *\n",
    "from mealpy.physics_based.HGSO import BaseHGSO\n",
    "from sklearn.model_selection import train_test_split"
   ]
  },
  {
   "cell_type": "code",
   "execution_count": 6,
   "metadata": {
    "ExecuteTime": {
     "end_time": "2023-01-02T20:49:37.079289Z",
     "start_time": "2023-01-02T20:49:36.926280Z"
    }
   },
   "outputs": [],
   "source": [
    "from opfunu.cec_basic.cec2014_nobias import *\n",
    "from mealpy.evolutionary_based.GA import BaseGA\n",
    "from mealpy.evolutionary_based.DE import BaseDE\n",
    "\n",
    "from sklearn.model_selection import train_test_split"
   ]
  },
  {
   "cell_type": "code",
   "execution_count": 8,
   "metadata": {
    "ExecuteTime": {
     "end_time": "2023-01-02T20:51:18.244956Z",
     "start_time": "2023-01-02T20:51:15.211188Z"
    }
   },
   "outputs": [],
   "source": [
    "df=pd.read_csv('Full_feature_data8sec_15_feature.csv')\n"
   ]
  },
  {
   "cell_type": "code",
   "execution_count": 9,
   "metadata": {
    "ExecuteTime": {
     "end_time": "2023-01-02T20:51:23.846599Z",
     "start_time": "2023-01-02T20:51:23.662012Z"
    }
   },
   "outputs": [],
   "source": [
    "X=df.drop(columns=['4608'])"
   ]
  },
  {
   "cell_type": "code",
   "execution_count": 10,
   "metadata": {
    "ExecuteTime": {
     "end_time": "2023-01-02T20:51:24.828670Z",
     "start_time": "2023-01-02T20:51:24.631089Z"
    }
   },
   "outputs": [
    {
     "data": {
      "text/html": [
       "<div>\n",
       "<style scoped>\n",
       "    .dataframe tbody tr th:only-of-type {\n",
       "        vertical-align: middle;\n",
       "    }\n",
       "\n",
       "    .dataframe tbody tr th {\n",
       "        vertical-align: top;\n",
       "    }\n",
       "\n",
       "    .dataframe thead th {\n",
       "        text-align: right;\n",
       "    }\n",
       "</style>\n",
       "<table border=\"1\" class=\"dataframe\">\n",
       "  <thead>\n",
       "    <tr style=\"text-align: right;\">\n",
       "      <th></th>\n",
       "      <th>0</th>\n",
       "      <th>1</th>\n",
       "      <th>2</th>\n",
       "      <th>3</th>\n",
       "      <th>4</th>\n",
       "      <th>5</th>\n",
       "      <th>6</th>\n",
       "      <th>7</th>\n",
       "      <th>8</th>\n",
       "      <th>9</th>\n",
       "      <th>...</th>\n",
       "      <th>8.14</th>\n",
       "      <th>9.14</th>\n",
       "      <th>10.14</th>\n",
       "      <th>11.14</th>\n",
       "      <th>12.14</th>\n",
       "      <th>13.14</th>\n",
       "      <th>14.14</th>\n",
       "      <th>15.14</th>\n",
       "      <th>16.14</th>\n",
       "      <th>17.14</th>\n",
       "    </tr>\n",
       "  </thead>\n",
       "  <tbody>\n",
       "    <tr>\n",
       "      <th>0</th>\n",
       "      <td>0.541785</td>\n",
       "      <td>0.552134</td>\n",
       "      <td>0.470115</td>\n",
       "      <td>0.423624</td>\n",
       "      <td>0.419088</td>\n",
       "      <td>0.430106</td>\n",
       "      <td>0.348969</td>\n",
       "      <td>0.424442</td>\n",
       "      <td>0.411324</td>\n",
       "      <td>0.488116</td>\n",
       "      <td>...</td>\n",
       "      <td>0.836668</td>\n",
       "      <td>0.982719</td>\n",
       "      <td>0.989608</td>\n",
       "      <td>1.031092</td>\n",
       "      <td>0.977043</td>\n",
       "      <td>0.986210</td>\n",
       "      <td>0.946024</td>\n",
       "      <td>1.011348</td>\n",
       "      <td>1.054108</td>\n",
       "      <td>0.960242</td>\n",
       "    </tr>\n",
       "    <tr>\n",
       "      <th>1</th>\n",
       "      <td>0.333753</td>\n",
       "      <td>0.425592</td>\n",
       "      <td>0.427829</td>\n",
       "      <td>0.388499</td>\n",
       "      <td>0.267964</td>\n",
       "      <td>0.365408</td>\n",
       "      <td>0.383790</td>\n",
       "      <td>0.338899</td>\n",
       "      <td>0.321148</td>\n",
       "      <td>0.325161</td>\n",
       "      <td>...</td>\n",
       "      <td>0.662034</td>\n",
       "      <td>0.626365</td>\n",
       "      <td>0.552905</td>\n",
       "      <td>0.586302</td>\n",
       "      <td>0.660922</td>\n",
       "      <td>0.575847</td>\n",
       "      <td>0.645518</td>\n",
       "      <td>0.483276</td>\n",
       "      <td>0.470907</td>\n",
       "      <td>1.017561</td>\n",
       "    </tr>\n",
       "    <tr>\n",
       "      <th>2</th>\n",
       "      <td>0.550699</td>\n",
       "      <td>0.547056</td>\n",
       "      <td>0.536629</td>\n",
       "      <td>0.502352</td>\n",
       "      <td>0.636015</td>\n",
       "      <td>0.501885</td>\n",
       "      <td>0.600518</td>\n",
       "      <td>0.553669</td>\n",
       "      <td>0.489608</td>\n",
       "      <td>0.489530</td>\n",
       "      <td>...</td>\n",
       "      <td>1.003251</td>\n",
       "      <td>0.931247</td>\n",
       "      <td>1.024486</td>\n",
       "      <td>1.013421</td>\n",
       "      <td>0.995804</td>\n",
       "      <td>1.039680</td>\n",
       "      <td>1.005183</td>\n",
       "      <td>1.052864</td>\n",
       "      <td>1.034161</td>\n",
       "      <td>0.989152</td>\n",
       "    </tr>\n",
       "    <tr>\n",
       "      <th>3</th>\n",
       "      <td>0.478458</td>\n",
       "      <td>0.525518</td>\n",
       "      <td>0.582573</td>\n",
       "      <td>0.394801</td>\n",
       "      <td>0.591788</td>\n",
       "      <td>0.477273</td>\n",
       "      <td>0.513480</td>\n",
       "      <td>0.400668</td>\n",
       "      <td>0.449334</td>\n",
       "      <td>0.497815</td>\n",
       "      <td>...</td>\n",
       "      <td>1.018170</td>\n",
       "      <td>1.058449</td>\n",
       "      <td>1.008011</td>\n",
       "      <td>1.077303</td>\n",
       "      <td>1.024774</td>\n",
       "      <td>1.029066</td>\n",
       "      <td>0.995703</td>\n",
       "      <td>1.069470</td>\n",
       "      <td>1.027077</td>\n",
       "      <td>1.007292</td>\n",
       "    </tr>\n",
       "    <tr>\n",
       "      <th>4</th>\n",
       "      <td>0.538382</td>\n",
       "      <td>0.530642</td>\n",
       "      <td>0.504151</td>\n",
       "      <td>0.495293</td>\n",
       "      <td>0.547229</td>\n",
       "      <td>0.418331</td>\n",
       "      <td>0.489313</td>\n",
       "      <td>0.398469</td>\n",
       "      <td>0.405432</td>\n",
       "      <td>0.510490</td>\n",
       "      <td>...</td>\n",
       "      <td>1.040382</td>\n",
       "      <td>1.063366</td>\n",
       "      <td>1.039749</td>\n",
       "      <td>1.033797</td>\n",
       "      <td>1.043004</td>\n",
       "      <td>1.088252</td>\n",
       "      <td>1.035429</td>\n",
       "      <td>1.044819</td>\n",
       "      <td>1.087737</td>\n",
       "      <td>0.997827</td>\n",
       "    </tr>\n",
       "    <tr>\n",
       "      <th>...</th>\n",
       "      <td>...</td>\n",
       "      <td>...</td>\n",
       "      <td>...</td>\n",
       "      <td>...</td>\n",
       "      <td>...</td>\n",
       "      <td>...</td>\n",
       "      <td>...</td>\n",
       "      <td>...</td>\n",
       "      <td>...</td>\n",
       "      <td>...</td>\n",
       "      <td>...</td>\n",
       "      <td>...</td>\n",
       "      <td>...</td>\n",
       "      <td>...</td>\n",
       "      <td>...</td>\n",
       "      <td>...</td>\n",
       "      <td>...</td>\n",
       "      <td>...</td>\n",
       "      <td>...</td>\n",
       "      <td>...</td>\n",
       "      <td>...</td>\n",
       "    </tr>\n",
       "    <tr>\n",
       "      <th>21996</th>\n",
       "      <td>0.483737</td>\n",
       "      <td>0.498618</td>\n",
       "      <td>0.444072</td>\n",
       "      <td>0.431923</td>\n",
       "      <td>0.590627</td>\n",
       "      <td>0.462061</td>\n",
       "      <td>0.539250</td>\n",
       "      <td>0.495600</td>\n",
       "      <td>0.525248</td>\n",
       "      <td>0.559806</td>\n",
       "      <td>...</td>\n",
       "      <td>1.039674</td>\n",
       "      <td>1.028321</td>\n",
       "      <td>1.003155</td>\n",
       "      <td>1.022088</td>\n",
       "      <td>1.089108</td>\n",
       "      <td>1.023827</td>\n",
       "      <td>0.986488</td>\n",
       "      <td>0.976685</td>\n",
       "      <td>1.015406</td>\n",
       "      <td>1.068999</td>\n",
       "    </tr>\n",
       "    <tr>\n",
       "      <th>21997</th>\n",
       "      <td>0.475398</td>\n",
       "      <td>0.397574</td>\n",
       "      <td>0.508770</td>\n",
       "      <td>0.524848</td>\n",
       "      <td>0.447223</td>\n",
       "      <td>0.519381</td>\n",
       "      <td>0.482166</td>\n",
       "      <td>0.402477</td>\n",
       "      <td>0.490394</td>\n",
       "      <td>0.555931</td>\n",
       "      <td>...</td>\n",
       "      <td>1.145618</td>\n",
       "      <td>1.005819</td>\n",
       "      <td>1.073218</td>\n",
       "      <td>1.074115</td>\n",
       "      <td>1.031521</td>\n",
       "      <td>0.993449</td>\n",
       "      <td>0.866405</td>\n",
       "      <td>0.917746</td>\n",
       "      <td>0.982434</td>\n",
       "      <td>0.971202</td>\n",
       "    </tr>\n",
       "    <tr>\n",
       "      <th>21998</th>\n",
       "      <td>0.441666</td>\n",
       "      <td>0.356828</td>\n",
       "      <td>0.485660</td>\n",
       "      <td>0.535336</td>\n",
       "      <td>0.426632</td>\n",
       "      <td>0.509902</td>\n",
       "      <td>0.458977</td>\n",
       "      <td>0.465170</td>\n",
       "      <td>0.390470</td>\n",
       "      <td>0.503890</td>\n",
       "      <td>...</td>\n",
       "      <td>1.067561</td>\n",
       "      <td>1.055399</td>\n",
       "      <td>1.008581</td>\n",
       "      <td>0.999430</td>\n",
       "      <td>1.071109</td>\n",
       "      <td>1.027590</td>\n",
       "      <td>1.060986</td>\n",
       "      <td>0.830990</td>\n",
       "      <td>0.930460</td>\n",
       "      <td>1.025106</td>\n",
       "    </tr>\n",
       "    <tr>\n",
       "      <th>21999</th>\n",
       "      <td>0.440282</td>\n",
       "      <td>0.571950</td>\n",
       "      <td>0.540235</td>\n",
       "      <td>0.425216</td>\n",
       "      <td>0.544119</td>\n",
       "      <td>0.467789</td>\n",
       "      <td>0.516684</td>\n",
       "      <td>0.416254</td>\n",
       "      <td>0.506056</td>\n",
       "      <td>0.489982</td>\n",
       "      <td>...</td>\n",
       "      <td>1.038601</td>\n",
       "      <td>1.055877</td>\n",
       "      <td>0.998631</td>\n",
       "      <td>1.044930</td>\n",
       "      <td>1.060590</td>\n",
       "      <td>1.080232</td>\n",
       "      <td>1.042405</td>\n",
       "      <td>0.993040</td>\n",
       "      <td>1.060539</td>\n",
       "      <td>1.022314</td>\n",
       "    </tr>\n",
       "    <tr>\n",
       "      <th>22000</th>\n",
       "      <td>0.420327</td>\n",
       "      <td>0.525987</td>\n",
       "      <td>0.464690</td>\n",
       "      <td>0.396442</td>\n",
       "      <td>0.555931</td>\n",
       "      <td>0.498126</td>\n",
       "      <td>0.410149</td>\n",
       "      <td>0.475625</td>\n",
       "      <td>0.506585</td>\n",
       "      <td>0.441354</td>\n",
       "      <td>...</td>\n",
       "      <td>1.034454</td>\n",
       "      <td>1.005064</td>\n",
       "      <td>0.989086</td>\n",
       "      <td>1.044604</td>\n",
       "      <td>1.082597</td>\n",
       "      <td>1.023711</td>\n",
       "      <td>0.985450</td>\n",
       "      <td>0.910530</td>\n",
       "      <td>0.986893</td>\n",
       "      <td>1.079805</td>\n",
       "    </tr>\n",
       "  </tbody>\n",
       "</table>\n",
       "<p>22001 rows × 270 columns</p>\n",
       "</div>"
      ],
      "text/plain": [
       "              0         1         2         3         4         5         6  \\\n",
       "0      0.541785  0.552134  0.470115  0.423624  0.419088  0.430106  0.348969   \n",
       "1      0.333753  0.425592  0.427829  0.388499  0.267964  0.365408  0.383790   \n",
       "2      0.550699  0.547056  0.536629  0.502352  0.636015  0.501885  0.600518   \n",
       "3      0.478458  0.525518  0.582573  0.394801  0.591788  0.477273  0.513480   \n",
       "4      0.538382  0.530642  0.504151  0.495293  0.547229  0.418331  0.489313   \n",
       "...         ...       ...       ...       ...       ...       ...       ...   \n",
       "21996  0.483737  0.498618  0.444072  0.431923  0.590627  0.462061  0.539250   \n",
       "21997  0.475398  0.397574  0.508770  0.524848  0.447223  0.519381  0.482166   \n",
       "21998  0.441666  0.356828  0.485660  0.535336  0.426632  0.509902  0.458977   \n",
       "21999  0.440282  0.571950  0.540235  0.425216  0.544119  0.467789  0.516684   \n",
       "22000  0.420327  0.525987  0.464690  0.396442  0.555931  0.498126  0.410149   \n",
       "\n",
       "              7         8         9  ...      8.14      9.14     10.14  \\\n",
       "0      0.424442  0.411324  0.488116  ...  0.836668  0.982719  0.989608   \n",
       "1      0.338899  0.321148  0.325161  ...  0.662034  0.626365  0.552905   \n",
       "2      0.553669  0.489608  0.489530  ...  1.003251  0.931247  1.024486   \n",
       "3      0.400668  0.449334  0.497815  ...  1.018170  1.058449  1.008011   \n",
       "4      0.398469  0.405432  0.510490  ...  1.040382  1.063366  1.039749   \n",
       "...         ...       ...       ...  ...       ...       ...       ...   \n",
       "21996  0.495600  0.525248  0.559806  ...  1.039674  1.028321  1.003155   \n",
       "21997  0.402477  0.490394  0.555931  ...  1.145618  1.005819  1.073218   \n",
       "21998  0.465170  0.390470  0.503890  ...  1.067561  1.055399  1.008581   \n",
       "21999  0.416254  0.506056  0.489982  ...  1.038601  1.055877  0.998631   \n",
       "22000  0.475625  0.506585  0.441354  ...  1.034454  1.005064  0.989086   \n",
       "\n",
       "          11.14     12.14     13.14     14.14     15.14     16.14     17.14  \n",
       "0      1.031092  0.977043  0.986210  0.946024  1.011348  1.054108  0.960242  \n",
       "1      0.586302  0.660922  0.575847  0.645518  0.483276  0.470907  1.017561  \n",
       "2      1.013421  0.995804  1.039680  1.005183  1.052864  1.034161  0.989152  \n",
       "3      1.077303  1.024774  1.029066  0.995703  1.069470  1.027077  1.007292  \n",
       "4      1.033797  1.043004  1.088252  1.035429  1.044819  1.087737  0.997827  \n",
       "...         ...       ...       ...       ...       ...       ...       ...  \n",
       "21996  1.022088  1.089108  1.023827  0.986488  0.976685  1.015406  1.068999  \n",
       "21997  1.074115  1.031521  0.993449  0.866405  0.917746  0.982434  0.971202  \n",
       "21998  0.999430  1.071109  1.027590  1.060986  0.830990  0.930460  1.025106  \n",
       "21999  1.044930  1.060590  1.080232  1.042405  0.993040  1.060539  1.022314  \n",
       "22000  1.044604  1.082597  1.023711  0.985450  0.910530  0.986893  1.079805  \n",
       "\n",
       "[22001 rows x 270 columns]"
      ]
     },
     "execution_count": 10,
     "metadata": {},
     "output_type": "execute_result"
    }
   ],
   "source": [
    "X.loc[0:22000,:]"
   ]
  },
  {
   "cell_type": "code",
   "execution_count": 11,
   "metadata": {
    "ExecuteTime": {
     "end_time": "2023-01-02T20:51:34.296749Z",
     "start_time": "2023-01-02T20:51:34.132874Z"
    }
   },
   "outputs": [],
   "source": [
    "Y=df['4608']"
   ]
  },
  {
   "cell_type": "code",
   "execution_count": 12,
   "metadata": {
    "ExecuteTime": {
     "end_time": "2023-01-02T20:51:36.470604Z",
     "start_time": "2023-01-02T20:51:36.219018Z"
    }
   },
   "outputs": [],
   "source": [
    "x_train,x_test,y_train,y_test=train_test_split(X,Y,shuffle=True,stratify=Y,test_size=0.3)"
   ]
  },
  {
   "cell_type": "code",
   "execution_count": 13,
   "metadata": {
    "ExecuteTime": {
     "end_time": "2023-01-02T20:51:37.233314Z",
     "start_time": "2023-01-02T20:51:37.051018Z"
    }
   },
   "outputs": [
    {
     "data": {
      "text/plain": [
       "0.0    23632\n",
       "1.0     3507\n",
       "Name: 4608, dtype: int64"
      ]
     },
     "execution_count": 13,
     "metadata": {},
     "output_type": "execute_result"
    }
   ],
   "source": [
    "y_train.value_counts()"
   ]
  },
  {
   "cell_type": "code",
   "execution_count": 14,
   "metadata": {
    "ExecuteTime": {
     "end_time": "2023-01-02T20:51:37.868770Z",
     "start_time": "2023-01-02T20:51:37.716357Z"
    }
   },
   "outputs": [],
   "source": [
    "from sklearn.metrics import cohen_kappa_score, make_scorer,matthews_corrcoef\n",
    "\n",
    "\n",
    "scorer_1 =make_scorer(cohen_kappa_score) \n",
    "    \n",
    "scorer_2 =make_scorer(matthews_corrcoef) \n",
    "       "
   ]
  },
  {
   "cell_type": "code",
   "execution_count": 15,
   "metadata": {
    "ExecuteTime": {
     "end_time": "2023-01-02T20:51:39.339001Z",
     "start_time": "2023-01-02T20:51:39.172204Z"
    }
   },
   "outputs": [],
   "source": [
    "from sklearn.ensemble import RandomForestClassifier"
   ]
  },
  {
   "cell_type": "code",
   "execution_count": 35,
   "metadata": {
    "ExecuteTime": {
     "end_time": "2023-01-03T16:31:53.176291Z",
     "start_time": "2023-01-03T16:31:52.863129Z"
    }
   },
   "outputs": [],
   "source": [
    "from sklearn import metrics\n",
    "from sklearn.model_selection import cross_val_score\n",
    "import math\n",
    "import xgboost as xgb\n",
    "\n",
    "\n",
    "def hyperopt_train_testxgb(params):\n",
    "\n",
    "    clf = xgb.XGBClassifier(learning_rate=params[0],\n",
    "                            colsample_bytree=params[1],\n",
    "                            gamma=params[2],\n",
    "                            n_jobs=-1,\n",
    "                            grow_policy='depthwise',\n",
    "                            max_depth=math.floor(params[3]),\n",
    "                            min_child_weight=math.floor(params[4]),\n",
    "                            subsample=params[5],\n",
    "                            booster='gbtree',\n",
    "                            eval_metric='logloss',\n",
    "                            num_parallel_tree=1,\n",
    "                            alpha=params[6])\n",
    "    clf.fit(x_train,y_train)\n",
    "    pred_xgb=clf.predict(x_test)\n",
    "    res=cohen_kappa_score(y_test,pred_xgb)\n",
    "\n",
    "    return res\n",
    "\n",
    "\n",
    "def hyperopt_clf1(params):\n",
    "\n",
    "    clf = xgb.XGBClassifier(learning_rate=params[0],\n",
    "                            colsample_bytree=params[1],\n",
    "                            gamma=params[2],\n",
    "                            n_jobs=-1,\n",
    "                            grow_policy='depthwise',\n",
    "                            max_depth=math.floor(params[3]),\n",
    "                            min_child_weight=math.floor(params[4]),\n",
    "                            subsample=params[5],\n",
    "                            booster='gbtree',\n",
    "                            eval_metric='logloss',\n",
    "                            num_parallel_tree=1,\n",
    "                            alpha=params[6])\n",
    "\n",
    "    return clf\n",
    "\n",
    "\n",
    "def FXGB_1(params):\n",
    "    res = hyperopt_train_testxgb(params)\n",
    "    err = 1 - res\n",
    "    return err"
   ]
  },
  {
   "cell_type": "code",
   "execution_count": 36,
   "metadata": {
    "ExecuteTime": {
     "end_time": "2023-01-03T16:31:54.167151Z",
     "start_time": "2023-01-03T16:31:53.950730Z"
    }
   },
   "outputs": [],
   "source": [
    "import time"
   ]
  },
  {
   "cell_type": "code",
   "execution_count": 37,
   "metadata": {
    "ExecuteTime": {
     "end_time": "2023-01-03T22:58:38.152653Z",
     "start_time": "2023-01-03T16:31:54.864289Z"
    },
    "scrolled": false
   },
   "outputs": [
    {
     "name": "stderr",
     "output_type": "stream",
     "text": [
      "2023/01/03 10:33:53 PM, INFO, mealpy.swarm_based.AO.OriginalAO: Solving single objective optimization problem.\n",
      "2023/01/03 11:21:25 PM, INFO, mealpy.swarm_based.AO.OriginalAO: >Problem: P, Epoch: 1, Current best: 0.3611192747454487, Global best: 0.3611192747454487, Runtime: 1907.78907 seconds\n",
      "2023/01/03 11:55:57 PM, INFO, mealpy.swarm_based.AO.OriginalAO: >Problem: P, Epoch: 2, Current best: 0.3611192747454487, Global best: 0.3611192747454487, Runtime: 2072.51038 seconds\n",
      "2023/01/04 12:19:56 AM, INFO, mealpy.swarm_based.AO.OriginalAO: >Problem: P, Epoch: 3, Current best: 0.3611192747454487, Global best: 0.3611192747454487, Runtime: 1438.56359 seconds\n",
      "2023/01/04 12:36:57 AM, INFO, mealpy.swarm_based.AO.OriginalAO: >Problem: P, Epoch: 4, Current best: 0.3611192747454487, Global best: 0.3611192747454487, Runtime: 1020.84740 seconds\n",
      "2023/01/04 01:00:41 AM, INFO, mealpy.swarm_based.AO.OriginalAO: >Problem: P, Epoch: 5, Current best: 0.3611192747454487, Global best: 0.3611192747454487, Runtime: 1424.58883 seconds\n",
      "2023/01/04 01:24:23 AM, INFO, mealpy.swarm_based.AO.OriginalAO: >Problem: P, Epoch: 6, Current best: 0.3611192747454487, Global best: 0.3611192747454487, Runtime: 1422.14401 seconds\n",
      "2023/01/04 01:46:57 AM, INFO, mealpy.swarm_based.AO.OriginalAO: >Problem: P, Epoch: 7, Current best: 0.3611192747454487, Global best: 0.3611192747454487, Runtime: 1353.42150 seconds\n",
      "2023/01/04 02:09:07 AM, INFO, mealpy.swarm_based.AO.OriginalAO: >Problem: P, Epoch: 8, Current best: 0.3611192747454487, Global best: 0.3611192747454487, Runtime: 1329.74558 seconds\n",
      "2023/01/04 02:25:16 AM, INFO, mealpy.swarm_based.AO.OriginalAO: >Problem: P, Epoch: 9, Current best: 0.3611192747454487, Global best: 0.3611192747454487, Runtime: 969.00231 seconds\n",
      "2023/01/04 02:45:42 AM, INFO, mealpy.swarm_based.AO.OriginalAO: >Problem: P, Epoch: 10, Current best: 0.3611192747454487, Global best: 0.3611192747454487, Runtime: 1226.65689 seconds\n",
      "2023/01/04 02:57:25 AM, INFO, mealpy.swarm_based.AO.OriginalAO: >Problem: P, Epoch: 11, Current best: 0.3611192747454487, Global best: 0.3611192747454487, Runtime: 703.25761 seconds\n",
      "2023/01/04 03:11:53 AM, INFO, mealpy.swarm_based.AO.OriginalAO: >Problem: P, Epoch: 12, Current best: 0.3611192747454487, Global best: 0.3611192747454487, Runtime: 867.13734 seconds\n",
      "2023/01/04 03:26:03 AM, INFO, mealpy.swarm_based.AO.OriginalAO: >Problem: P, Epoch: 13, Current best: 0.3611192747454487, Global best: 0.3611192747454487, Runtime: 850.06712 seconds\n",
      "2023/01/04 03:40:45 AM, INFO, mealpy.swarm_based.AO.OriginalAO: >Problem: P, Epoch: 14, Current best: 0.3611192747454487, Global best: 0.3611192747454487, Runtime: 882.78312 seconds\n",
      "2023/01/04 03:52:59 AM, INFO, mealpy.swarm_based.AO.OriginalAO: >Problem: P, Epoch: 15, Current best: 0.3611192747454487, Global best: 0.3611192747454487, Runtime: 733.09832 seconds\n",
      "2023/01/04 04:09:16 AM, INFO, mealpy.swarm_based.AO.OriginalAO: >Problem: P, Epoch: 16, Current best: 0.3611192747454487, Global best: 0.3611192747454487, Runtime: 977.74617 seconds\n",
      "2023/01/04 04:13:31 AM, INFO, mealpy.swarm_based.AO.OriginalAO: >Problem: P, Epoch: 17, Current best: 0.3611192747454487, Global best: 0.3611192747454487, Runtime: 254.27199 seconds\n",
      "2023/01/04 04:29:43 AM, INFO, mealpy.swarm_based.AO.OriginalAO: >Problem: P, Epoch: 18, Current best: 0.3611192747454487, Global best: 0.3611192747454487, Runtime: 972.80532 seconds\n",
      "2023/01/04 04:45:13 AM, INFO, mealpy.swarm_based.AO.OriginalAO: >Problem: P, Epoch: 19, Current best: 0.3611192747454487, Global best: 0.3611192747454487, Runtime: 929.31924 seconds\n",
      "2023/01/04 04:58:38 AM, INFO, mealpy.swarm_based.AO.OriginalAO: >Problem: P, Epoch: 20, Current best: 0.3611192747454487, Global best: 0.3611192747454487, Runtime: 804.92718 seconds\n"
     ]
    }
   ],
   "source": [
    "start_o = time.time()\n",
    "from sys import argv,exit\n",
    "lb=[0.000000000000001,0.001,0.000000001,1,1,0.001,0.000001]\n",
    "ub=[0.9,1,1,200,200,1,1]\n",
    "\n",
    "\n",
    "\n",
    "problem_dict1 = {\n",
    "    \"fit_func\": FXGB_1,\n",
    "    \"lb\": lb,\n",
    "    \"ub\": ub,\n",
    "    \"minmax\": \"min\",\n",
    "     \n",
    "    \n",
    "}\n",
    "md1 = OriginalAO(epoch=20, pop_size=20)\n",
    "best_position, best_fitness= md1.solve(problem=problem_dict1,n_workers=-1)\n",
    "\n"
   ]
  },
  {
   "cell_type": "code",
   "execution_count": 38,
   "metadata": {
    "ExecuteTime": {
     "end_time": "2023-01-04T02:52:45.683696Z",
     "start_time": "2023-01-04T02:52:45.374522Z"
    }
   },
   "outputs": [
    {
     "data": {
      "text/plain": [
       "0.3611192747454487"
      ]
     },
     "execution_count": 38,
     "metadata": {},
     "output_type": "execute_result"
    }
   ],
   "source": [
    "best_fitness"
   ]
  },
  {
   "cell_type": "code",
   "execution_count": 39,
   "metadata": {
    "ExecuteTime": {
     "end_time": "2023-01-04T02:52:46.534422Z",
     "start_time": "2023-01-04T02:52:46.318998Z"
    }
   },
   "outputs": [
    {
     "name": "stdout",
     "output_type": "stream",
     "text": [
      "0.3611192747454487\n"
     ]
    }
   ],
   "source": [
    "print(best_fitness)"
   ]
  },
  {
   "cell_type": "code",
   "execution_count": 40,
   "metadata": {
    "ExecuteTime": {
     "end_time": "2023-01-04T02:52:47.625505Z",
     "start_time": "2023-01-04T02:52:47.422049Z"
    }
   },
   "outputs": [
    {
     "name": "stdout",
     "output_type": "stream",
     "text": [
      "[ 0.46002308  0.83922418  0.38594303 63.52800221 74.39690206  0.94314836\n",
      "  0.45302991]\n"
     ]
    }
   ],
   "source": [
    "print(best_position)   "
   ]
  },
  {
   "cell_type": "code",
   "execution_count": 41,
   "metadata": {
    "ExecuteTime": {
     "end_time": "2023-01-04T02:54:37.402291Z",
     "start_time": "2023-01-04T02:52:49.315986Z"
    }
   },
   "outputs": [
    {
     "name": "stdout",
     "output_type": "stream",
     "text": [
      "              precision    recall  f1-score   support\n",
      "\n",
      "         0.0       0.94      0.98      0.96     10129\n",
      "         1.0       0.80      0.59      0.68      1503\n",
      "\n",
      "    accuracy                           0.93     11632\n",
      "   macro avg       0.87      0.78      0.82     11632\n",
      "weighted avg       0.92      0.93      0.92     11632\n",
      "\n",
      "0.6388807252545513\n"
     ]
    }
   ],
   "source": [
    "clf=hyperopt_clf1(best_position)\n",
    "XGB_AO=clf.fit(x_train, y_train)\n",
    "\n",
    "XGB_AO_predict=XGB_AO.predict(x_test)\n",
    "\n",
    "from sklearn.metrics import classification_report\n",
    "print(classification_report(y_test, XGB_AO_predict))\n",
    "from sklearn.metrics import cohen_kappa_score\n",
    "print(cohen_kappa_score(y_test, XGB_AO_predict))"
   ]
  },
  {
   "cell_type": "code",
   "execution_count": 42,
   "metadata": {
    "ExecuteTime": {
     "end_time": "2023-01-04T02:54:54.950388Z",
     "start_time": "2023-01-04T02:54:54.776851Z"
    }
   },
   "outputs": [
    {
     "name": "stdout",
     "output_type": "stream",
     "text": [
      "0.9281292984869326\n"
     ]
    }
   ],
   "source": [
    "print(accuracy_score(y_test, XGB_AO_predict))"
   ]
  },
  {
   "cell_type": "code",
   "execution_count": 43,
   "metadata": {
    "ExecuteTime": {
     "end_time": "2023-01-04T02:54:56.844325Z",
     "start_time": "2023-01-04T02:54:56.625908Z"
    }
   },
   "outputs": [
    {
     "name": "stdout",
     "output_type": "stream",
     "text": [
      "0.6388807252545513\n"
     ]
    }
   ],
   "source": [
    "print(cohen_kappa_score(y_test, XGB_AO_predict))"
   ]
  },
  {
   "cell_type": "code",
   "execution_count": 44,
   "metadata": {
    "ExecuteTime": {
     "end_time": "2023-01-04T02:54:58.803088Z",
     "start_time": "2023-01-04T02:54:58.571707Z"
    }
   },
   "outputs": [],
   "source": [
    "import pickle\n",
    "# save the model to disk\n",
    "filename = 'optimized_XGB_model_usingAO.sav'\n",
    "pickle.dump(XGB_AO, open(filename, 'wb'))"
   ]
  },
  {
   "cell_type": "code",
   "execution_count": 30,
   "metadata": {
    "ExecuteTime": {
     "end_time": "2022-08-27T05:53:14.627350Z",
     "start_time": "2022-08-27T05:53:10.507185Z"
    }
   },
   "outputs": [
    {
     "data": {
      "image/png": "[encoded data removed]",
      "text/plain": [
       "<Figure size 432x288 with 1 Axes>"
      ]
     },
     "metadata": {
      "needs_background": "light"
     },
     "output_type": "display_data"
    },
    {
     "data": {
      "image/png": "[encoded data removed]",
      "text/plain": [
       "<Figure size 432x288 with 1 Axes>"
      ]
     },
     "metadata": {
      "needs_background": "light"
     },
     "output_type": "display_data"
    },
    {
     "data": {
      "image/png": "[encoded data removed]",
      "text/plain": [
       "<Figure size 432x288 with 1 Axes>"
      ]
     },
     "metadata": {
      "needs_background": "light"
     },
     "output_type": "display_data"
    },
    {
     "data": {
      "image/png": "[encoded data removed]",
      "text/plain": [
       "<Figure size 432x288 with 1 Axes>"
      ]
     },
     "metadata": {
      "needs_background": "light"
     },
     "output_type": "display_data"
    },
    {
     "data": {
      "image/png": "[encoded data removed]",
      "text/plain": [
       "<Figure size 432x288 with 1 Axes>"
      ]
     },
     "metadata": {
      "needs_background": "light"
     },
     "output_type": "display_data"
    },
    {
     "data": {
      "image/png": "[encoded data removed]",
      "text/plain": [
       "<Figure size 432x288 with 1 Axes>"
      ]
     },
     "metadata": {
      "needs_background": "light"
     },
     "output_type": "display_data"
    },
    {
     "data": {
      "image/png": "[encoded data removed]",
      "text/plain": [
       "<Figure size 432x288 with 1 Axes>"
      ]
     },
     "metadata": {
      "needs_background": "light"
     },
     "output_type": "display_data"
    },
    {
     "data": {
      "image/png": "[encoded data removed]",
      "text/plain": [
       "<Figure size 432x288 with 1 Axes>"
      ]
     },
     "metadata": {
      "needs_background": "light"
     },
     "output_type": "display_data"
    }
   ],
   "source": [
    "## You can access them all via object \"history\" like this:\n",
    "md1.history.save_global_objectives_chart(filename=\"XGB_AO/goc\")\n",
    "md1.history.save_local_objectives_chart(filename=\"XGB_AO/loc\")\n",
    "\n",
    "md1.history.save_global_best_fitness_chart(filename=\"XGB_AO/gbfc\")\n",
    "md1.history.save_local_best_fitness_chart(filename=\"XGB_AO/lbfc\")\n",
    "\n",
    "md1.history.save_runtime_chart(filename=\"XGB_AO/rtc\")\n",
    "\n",
    "md1.history.save_exploration_exploitation_chart(filename=\"XGB_AO/eec\")\n",
    "\n",
    "md1.history.save_diversity_chart(filename=\"XGB_AO/dc\")\n",
    "\n",
    "md1.history.save_trajectory_chart(list_agent_idx=[3, 5], selected_dimensions=[3], filename=\"XGB_AO/tc\")"
   ]
  },
  {
   "cell_type": "code",
   "execution_count": null,
   "metadata": {},
   "outputs": [],
   "source": []
  }
 ],
 "metadata": {
  "kernelspec": {
   "display_name": "Python 3 (ipykernel)",
   "language": "python",
   "name": "python3"
  },
  "language_info": {
   "codemirror_mode": {
    "name": "ipython",
    "version": 3
   },
   "file_extension": ".py",
   "mimetype": "text/x-python",
   "name": "python",
   "nbconvert_exporter": "python",
   "pygments_lexer": "ipython3",
   "version": "3.9.12"
  },
  "toc": {
   "base_numbering": 1,
   "nav_menu": {},
   "number_sections": true,
   "sideBar": true,
   "skip_h1_title": false,
   "title_cell": "Table of Contents",
   "title_sidebar": "Contents",
   "toc_cell": false,
   "toc_position": {},
   "toc_section_display": true,
   "toc_window_display": false
  },
  "varInspector": {
   "cols": {
    "lenName": 16,
    "lenType": 16,
    "lenVar": 40
   },
   "kernels_config": {
    "python": {
     "delete_cmd_postfix": "",
     "delete_cmd_prefix": "del ",
     "library": "var_list.py",
     "varRefreshCmd": "print(var_dic_list())"
    },
    "r": {
     "delete_cmd_postfix": ") ",
     "delete_cmd_prefix": "rm(",
     "library": "var_list.r",
     "varRefreshCmd": "cat(var_dic_list()) "
    }
   },
   "oldHeight": 455.85,
   "position": {
    "height": "40px",
    "left": "716px",
    "right": "20px",
    "top": "120px",
    "width": "800px"
   },
   "types_to_exclude": [
    "module",
    "function",
    "builtin_function_or_method",
    "instance",
    "_Feature"
   ],
   "varInspector_section_display": "none",
   "window_display": true
  }
 },
 "nbformat": 4,
 "nbformat_minor": 4
}
