{
 "cells": [
  {
   "cell_type": "code",
   "execution_count": 54,
   "id": "0dd0fdfe",
   "metadata": {
    "ExecuteTime": {
     "end_time": "2023-01-22T19:55:14.925912Z",
     "start_time": "2023-01-22T19:55:14.906956Z"
    }
   },
   "outputs": [],
   "source": [
    "import xgboost as xgb\n",
    "from sklearn.ensemble import RandomForestClassifier,GradientBoostingClassifier\n",
    "from sklearn.tree import DecisionTreeClassifier\n",
    "import pandas as pd \n",
    "from sklearn.metrics import *\n",
    "from sklearn.model_selection import train_test_split\n",
    "from imblearn.over_sampling import SMOTE"
   ]
  },
  {
   "cell_type": "code",
   "execution_count": 55,
   "id": "19bdc491",
   "metadata": {
    "ExecuteTime": {
     "end_time": "2023-01-22T19:55:17.093775Z",
     "start_time": "2023-01-22T19:55:15.608747Z"
    }
   },
   "outputs": [
    {
     "data": {
      "text/html": [
       "<div>\n",
       "<style scoped>\n",
       "    .dataframe tbody tr th:only-of-type {\n",
       "        vertical-align: middle;\n",
       "    }\n",
       "\n",
       "    .dataframe tbody tr th {\n",
       "        vertical-align: top;\n",
       "    }\n",
       "\n",
       "    .dataframe thead th {\n",
       "        text-align: right;\n",
       "    }\n",
       "</style>\n",
       "<table border=\"1\" class=\"dataframe\">\n",
       "  <thead>\n",
       "    <tr style=\"text-align: right;\">\n",
       "      <th></th>\n",
       "      <th>0</th>\n",
       "      <th>1</th>\n",
       "      <th>2</th>\n",
       "      <th>3</th>\n",
       "      <th>4</th>\n",
       "      <th>5</th>\n",
       "      <th>6</th>\n",
       "      <th>7</th>\n",
       "      <th>8</th>\n",
       "      <th>9</th>\n",
       "      <th>...</th>\n",
       "      <th>9.14</th>\n",
       "      <th>10.14</th>\n",
       "      <th>11.14</th>\n",
       "      <th>12.14</th>\n",
       "      <th>13.14</th>\n",
       "      <th>14.14</th>\n",
       "      <th>15.14</th>\n",
       "      <th>16.14</th>\n",
       "      <th>17.14</th>\n",
       "      <th>9216</th>\n",
       "    </tr>\n",
       "  </thead>\n",
       "  <tbody>\n",
       "    <tr>\n",
       "      <th>0</th>\n",
       "      <td>0.335164</td>\n",
       "      <td>0.422834</td>\n",
       "      <td>0.425434</td>\n",
       "      <td>0.386857</td>\n",
       "      <td>0.268384</td>\n",
       "      <td>0.364790</td>\n",
       "      <td>0.372324</td>\n",
       "      <td>0.337670</td>\n",
       "      <td>0.317918</td>\n",
       "      <td>0.323084</td>\n",
       "      <td>...</td>\n",
       "      <td>0.547509</td>\n",
       "      <td>0.428001</td>\n",
       "      <td>0.381886</td>\n",
       "      <td>0.538637</td>\n",
       "      <td>0.495738</td>\n",
       "      <td>0.543177</td>\n",
       "      <td>0.453424</td>\n",
       "      <td>0.320640</td>\n",
       "      <td>1.318853</td>\n",
       "      <td>0.0</td>\n",
       "    </tr>\n",
       "    <tr>\n",
       "      <th>1</th>\n",
       "      <td>0.558940</td>\n",
       "      <td>0.547185</td>\n",
       "      <td>0.536815</td>\n",
       "      <td>0.439565</td>\n",
       "      <td>0.635416</td>\n",
       "      <td>0.497883</td>\n",
       "      <td>0.601128</td>\n",
       "      <td>0.535507</td>\n",
       "      <td>0.491099</td>\n",
       "      <td>0.487306</td>\n",
       "      <td>...</td>\n",
       "      <td>1.198504</td>\n",
       "      <td>1.258176</td>\n",
       "      <td>1.284958</td>\n",
       "      <td>1.187919</td>\n",
       "      <td>1.312455</td>\n",
       "      <td>1.242558</td>\n",
       "      <td>1.224121</td>\n",
       "      <td>1.272901</td>\n",
       "      <td>1.324214</td>\n",
       "      <td>0.0</td>\n",
       "    </tr>\n",
       "    <tr>\n",
       "      <th>2</th>\n",
       "      <td>0.481070</td>\n",
       "      <td>0.521079</td>\n",
       "      <td>0.499746</td>\n",
       "      <td>0.613020</td>\n",
       "      <td>0.501244</td>\n",
       "      <td>0.668536</td>\n",
       "      <td>0.593137</td>\n",
       "      <td>0.620548</td>\n",
       "      <td>0.625243</td>\n",
       "      <td>0.594081</td>\n",
       "      <td>...</td>\n",
       "      <td>1.187891</td>\n",
       "      <td>1.316769</td>\n",
       "      <td>1.341679</td>\n",
       "      <td>1.294233</td>\n",
       "      <td>1.312466</td>\n",
       "      <td>1.173382</td>\n",
       "      <td>1.296258</td>\n",
       "      <td>1.354735</td>\n",
       "      <td>1.374708</td>\n",
       "      <td>0.0</td>\n",
       "    </tr>\n",
       "    <tr>\n",
       "      <th>3</th>\n",
       "      <td>0.648244</td>\n",
       "      <td>0.654992</td>\n",
       "      <td>0.654824</td>\n",
       "      <td>0.651539</td>\n",
       "      <td>0.498437</td>\n",
       "      <td>0.690035</td>\n",
       "      <td>0.509310</td>\n",
       "      <td>0.669250</td>\n",
       "      <td>0.483494</td>\n",
       "      <td>0.501346</td>\n",
       "      <td>...</td>\n",
       "      <td>0.837796</td>\n",
       "      <td>0.424594</td>\n",
       "      <td>0.528106</td>\n",
       "      <td>0.817291</td>\n",
       "      <td>0.404327</td>\n",
       "      <td>0.634072</td>\n",
       "      <td>0.440675</td>\n",
       "      <td>0.732804</td>\n",
       "      <td>1.354924</td>\n",
       "      <td>1.0</td>\n",
       "    </tr>\n",
       "    <tr>\n",
       "      <th>4</th>\n",
       "      <td>0.273979</td>\n",
       "      <td>0.277746</td>\n",
       "      <td>0.284761</td>\n",
       "      <td>0.281482</td>\n",
       "      <td>0.303147</td>\n",
       "      <td>0.285764</td>\n",
       "      <td>0.280198</td>\n",
       "      <td>0.274268</td>\n",
       "      <td>0.269927</td>\n",
       "      <td>0.271021</td>\n",
       "      <td>...</td>\n",
       "      <td>0.690006</td>\n",
       "      <td>0.812859</td>\n",
       "      <td>0.717739</td>\n",
       "      <td>0.951507</td>\n",
       "      <td>0.772926</td>\n",
       "      <td>0.886945</td>\n",
       "      <td>0.730272</td>\n",
       "      <td>0.576406</td>\n",
       "      <td>1.311020</td>\n",
       "      <td>0.0</td>\n",
       "    </tr>\n",
       "    <tr>\n",
       "      <th>...</th>\n",
       "      <td>...</td>\n",
       "      <td>...</td>\n",
       "      <td>...</td>\n",
       "      <td>...</td>\n",
       "      <td>...</td>\n",
       "      <td>...</td>\n",
       "      <td>...</td>\n",
       "      <td>...</td>\n",
       "      <td>...</td>\n",
       "      <td>...</td>\n",
       "      <td>...</td>\n",
       "      <td>...</td>\n",
       "      <td>...</td>\n",
       "      <td>...</td>\n",
       "      <td>...</td>\n",
       "      <td>...</td>\n",
       "      <td>...</td>\n",
       "      <td>...</td>\n",
       "      <td>...</td>\n",
       "      <td>...</td>\n",
       "      <td>...</td>\n",
       "    </tr>\n",
       "    <tr>\n",
       "      <th>19369</th>\n",
       "      <td>0.420159</td>\n",
       "      <td>0.539634</td>\n",
       "      <td>0.553114</td>\n",
       "      <td>0.445364</td>\n",
       "      <td>0.456413</td>\n",
       "      <td>0.484084</td>\n",
       "      <td>0.491127</td>\n",
       "      <td>0.502279</td>\n",
       "      <td>0.405376</td>\n",
       "      <td>0.530856</td>\n",
       "      <td>...</td>\n",
       "      <td>1.272673</td>\n",
       "      <td>1.261968</td>\n",
       "      <td>1.310505</td>\n",
       "      <td>1.349567</td>\n",
       "      <td>1.252342</td>\n",
       "      <td>1.353315</td>\n",
       "      <td>1.225385</td>\n",
       "      <td>1.336892</td>\n",
       "      <td>1.304636</td>\n",
       "      <td>0.0</td>\n",
       "    </tr>\n",
       "    <tr>\n",
       "      <th>19370</th>\n",
       "      <td>0.481627</td>\n",
       "      <td>0.467439</td>\n",
       "      <td>0.593716</td>\n",
       "      <td>0.594382</td>\n",
       "      <td>0.465957</td>\n",
       "      <td>0.529134</td>\n",
       "      <td>0.553749</td>\n",
       "      <td>0.482576</td>\n",
       "      <td>0.462229</td>\n",
       "      <td>0.442401</td>\n",
       "      <td>...</td>\n",
       "      <td>1.268374</td>\n",
       "      <td>1.322265</td>\n",
       "      <td>1.341143</td>\n",
       "      <td>1.346202</td>\n",
       "      <td>1.294336</td>\n",
       "      <td>1.359204</td>\n",
       "      <td>1.328350</td>\n",
       "      <td>1.340989</td>\n",
       "      <td>1.352717</td>\n",
       "      <td>0.0</td>\n",
       "    </tr>\n",
       "    <tr>\n",
       "      <th>19371</th>\n",
       "      <td>0.623665</td>\n",
       "      <td>0.564269</td>\n",
       "      <td>0.519484</td>\n",
       "      <td>0.492092</td>\n",
       "      <td>0.561203</td>\n",
       "      <td>0.471161</td>\n",
       "      <td>0.608575</td>\n",
       "      <td>0.581709</td>\n",
       "      <td>0.579173</td>\n",
       "      <td>0.511012</td>\n",
       "      <td>...</td>\n",
       "      <td>1.299334</td>\n",
       "      <td>1.309861</td>\n",
       "      <td>1.358664</td>\n",
       "      <td>1.271001</td>\n",
       "      <td>1.388717</td>\n",
       "      <td>1.361720</td>\n",
       "      <td>1.295100</td>\n",
       "      <td>1.296166</td>\n",
       "      <td>1.350382</td>\n",
       "      <td>0.0</td>\n",
       "    </tr>\n",
       "    <tr>\n",
       "      <th>19372</th>\n",
       "      <td>0.548308</td>\n",
       "      <td>0.526311</td>\n",
       "      <td>0.558804</td>\n",
       "      <td>0.603206</td>\n",
       "      <td>0.437835</td>\n",
       "      <td>0.499259</td>\n",
       "      <td>0.615961</td>\n",
       "      <td>0.377607</td>\n",
       "      <td>0.531348</td>\n",
       "      <td>0.441672</td>\n",
       "      <td>...</td>\n",
       "      <td>1.347398</td>\n",
       "      <td>1.200716</td>\n",
       "      <td>1.251561</td>\n",
       "      <td>1.318744</td>\n",
       "      <td>1.269002</td>\n",
       "      <td>1.226858</td>\n",
       "      <td>1.221599</td>\n",
       "      <td>1.275983</td>\n",
       "      <td>1.329643</td>\n",
       "      <td>0.0</td>\n",
       "    </tr>\n",
       "    <tr>\n",
       "      <th>19373</th>\n",
       "      <td>0.538010</td>\n",
       "      <td>0.476326</td>\n",
       "      <td>0.480788</td>\n",
       "      <td>0.464696</td>\n",
       "      <td>0.477890</td>\n",
       "      <td>0.458562</td>\n",
       "      <td>0.461717</td>\n",
       "      <td>0.485598</td>\n",
       "      <td>0.455455</td>\n",
       "      <td>0.482317</td>\n",
       "      <td>...</td>\n",
       "      <td>0.099735</td>\n",
       "      <td>0.464723</td>\n",
       "      <td>0.454104</td>\n",
       "      <td>0.488796</td>\n",
       "      <td>0.530047</td>\n",
       "      <td>0.309301</td>\n",
       "      <td>0.495360</td>\n",
       "      <td>0.169146</td>\n",
       "      <td>0.422134</td>\n",
       "      <td>0.0</td>\n",
       "    </tr>\n",
       "  </tbody>\n",
       "</table>\n",
       "<p>19374 rows × 271 columns</p>\n",
       "</div>"
      ],
      "text/plain": [
       "              0         1         2         3         4         5         6  \\\n",
       "0      0.335164  0.422834  0.425434  0.386857  0.268384  0.364790  0.372324   \n",
       "1      0.558940  0.547185  0.536815  0.439565  0.635416  0.497883  0.601128   \n",
       "2      0.481070  0.521079  0.499746  0.613020  0.501244  0.668536  0.593137   \n",
       "3      0.648244  0.654992  0.654824  0.651539  0.498437  0.690035  0.509310   \n",
       "4      0.273979  0.277746  0.284761  0.281482  0.303147  0.285764  0.280198   \n",
       "...         ...       ...       ...       ...       ...       ...       ...   \n",
       "19369  0.420159  0.539634  0.553114  0.445364  0.456413  0.484084  0.491127   \n",
       "19370  0.481627  0.467439  0.593716  0.594382  0.465957  0.529134  0.553749   \n",
       "19371  0.623665  0.564269  0.519484  0.492092  0.561203  0.471161  0.608575   \n",
       "19372  0.548308  0.526311  0.558804  0.603206  0.437835  0.499259  0.615961   \n",
       "19373  0.538010  0.476326  0.480788  0.464696  0.477890  0.458562  0.461717   \n",
       "\n",
       "              7         8         9  ...      9.14     10.14     11.14  \\\n",
       "0      0.337670  0.317918  0.323084  ...  0.547509  0.428001  0.381886   \n",
       "1      0.535507  0.491099  0.487306  ...  1.198504  1.258176  1.284958   \n",
       "2      0.620548  0.625243  0.594081  ...  1.187891  1.316769  1.341679   \n",
       "3      0.669250  0.483494  0.501346  ...  0.837796  0.424594  0.528106   \n",
       "4      0.274268  0.269927  0.271021  ...  0.690006  0.812859  0.717739   \n",
       "...         ...       ...       ...  ...       ...       ...       ...   \n",
       "19369  0.502279  0.405376  0.530856  ...  1.272673  1.261968  1.310505   \n",
       "19370  0.482576  0.462229  0.442401  ...  1.268374  1.322265  1.341143   \n",
       "19371  0.581709  0.579173  0.511012  ...  1.299334  1.309861  1.358664   \n",
       "19372  0.377607  0.531348  0.441672  ...  1.347398  1.200716  1.251561   \n",
       "19373  0.485598  0.455455  0.482317  ...  0.099735  0.464723  0.454104   \n",
       "\n",
       "          12.14     13.14     14.14     15.14     16.14     17.14  9216  \n",
       "0      0.538637  0.495738  0.543177  0.453424  0.320640  1.318853   0.0  \n",
       "1      1.187919  1.312455  1.242558  1.224121  1.272901  1.324214   0.0  \n",
       "2      1.294233  1.312466  1.173382  1.296258  1.354735  1.374708   0.0  \n",
       "3      0.817291  0.404327  0.634072  0.440675  0.732804  1.354924   1.0  \n",
       "4      0.951507  0.772926  0.886945  0.730272  0.576406  1.311020   0.0  \n",
       "...         ...       ...       ...       ...       ...       ...   ...  \n",
       "19369  1.349567  1.252342  1.353315  1.225385  1.336892  1.304636   0.0  \n",
       "19370  1.346202  1.294336  1.359204  1.328350  1.340989  1.352717   0.0  \n",
       "19371  1.271001  1.388717  1.361720  1.295100  1.296166  1.350382   0.0  \n",
       "19372  1.318744  1.269002  1.226858  1.221599  1.275983  1.329643   0.0  \n",
       "19373  0.488796  0.530047  0.309301  0.495360  0.169146  0.422134   0.0  \n",
       "\n",
       "[19374 rows x 271 columns]"
      ]
     },
     "execution_count": 55,
     "metadata": {},
     "output_type": "execute_result"
    }
   ],
   "source": [
    "df=pd.read_csv('Full_feature_data16sec_15_feature.csv')\n",
    "\n",
    "df"
   ]
  },
  {
   "cell_type": "code",
   "execution_count": 56,
   "id": "73d6176d",
   "metadata": {
    "ExecuteTime": {
     "end_time": "2023-01-22T19:55:17.998779Z",
     "start_time": "2023-01-22T19:55:17.911015Z"
    }
   },
   "outputs": [
    {
     "data": {
      "text/html": [
       "<div>\n",
       "<style scoped>\n",
       "    .dataframe tbody tr th:only-of-type {\n",
       "        vertical-align: middle;\n",
       "    }\n",
       "\n",
       "    .dataframe tbody tr th {\n",
       "        vertical-align: top;\n",
       "    }\n",
       "\n",
       "    .dataframe thead th {\n",
       "        text-align: right;\n",
       "    }\n",
       "</style>\n",
       "<table border=\"1\" class=\"dataframe\">\n",
       "  <thead>\n",
       "    <tr style=\"text-align: right;\">\n",
       "      <th></th>\n",
       "      <th>0</th>\n",
       "      <th>1</th>\n",
       "      <th>2</th>\n",
       "      <th>3</th>\n",
       "      <th>4</th>\n",
       "      <th>5</th>\n",
       "      <th>6</th>\n",
       "      <th>7</th>\n",
       "      <th>8</th>\n",
       "      <th>9</th>\n",
       "      <th>...</th>\n",
       "      <th>9.14</th>\n",
       "      <th>10.14</th>\n",
       "      <th>11.14</th>\n",
       "      <th>12.14</th>\n",
       "      <th>13.14</th>\n",
       "      <th>14.14</th>\n",
       "      <th>15.14</th>\n",
       "      <th>16.14</th>\n",
       "      <th>17.14</th>\n",
       "      <th>9216</th>\n",
       "    </tr>\n",
       "  </thead>\n",
       "  <tbody>\n",
       "    <tr>\n",
       "      <th>0</th>\n",
       "      <td>0.335164</td>\n",
       "      <td>0.422834</td>\n",
       "      <td>0.425434</td>\n",
       "      <td>0.386857</td>\n",
       "      <td>0.268384</td>\n",
       "      <td>0.364790</td>\n",
       "      <td>0.372324</td>\n",
       "      <td>0.337670</td>\n",
       "      <td>0.317918</td>\n",
       "      <td>0.323084</td>\n",
       "      <td>...</td>\n",
       "      <td>0.547509</td>\n",
       "      <td>0.428001</td>\n",
       "      <td>0.381886</td>\n",
       "      <td>0.538637</td>\n",
       "      <td>0.495738</td>\n",
       "      <td>0.543177</td>\n",
       "      <td>0.453424</td>\n",
       "      <td>0.320640</td>\n",
       "      <td>1.318853</td>\n",
       "      <td>0.0</td>\n",
       "    </tr>\n",
       "    <tr>\n",
       "      <th>1</th>\n",
       "      <td>0.558940</td>\n",
       "      <td>0.547185</td>\n",
       "      <td>0.536815</td>\n",
       "      <td>0.439565</td>\n",
       "      <td>0.635416</td>\n",
       "      <td>0.497883</td>\n",
       "      <td>0.601128</td>\n",
       "      <td>0.535507</td>\n",
       "      <td>0.491099</td>\n",
       "      <td>0.487306</td>\n",
       "      <td>...</td>\n",
       "      <td>1.198504</td>\n",
       "      <td>1.258176</td>\n",
       "      <td>1.284958</td>\n",
       "      <td>1.187919</td>\n",
       "      <td>1.312455</td>\n",
       "      <td>1.242558</td>\n",
       "      <td>1.224121</td>\n",
       "      <td>1.272901</td>\n",
       "      <td>1.324214</td>\n",
       "      <td>0.0</td>\n",
       "    </tr>\n",
       "    <tr>\n",
       "      <th>2</th>\n",
       "      <td>0.481070</td>\n",
       "      <td>0.521079</td>\n",
       "      <td>0.499746</td>\n",
       "      <td>0.613020</td>\n",
       "      <td>0.501244</td>\n",
       "      <td>0.668536</td>\n",
       "      <td>0.593137</td>\n",
       "      <td>0.620548</td>\n",
       "      <td>0.625243</td>\n",
       "      <td>0.594081</td>\n",
       "      <td>...</td>\n",
       "      <td>1.187891</td>\n",
       "      <td>1.316769</td>\n",
       "      <td>1.341679</td>\n",
       "      <td>1.294233</td>\n",
       "      <td>1.312466</td>\n",
       "      <td>1.173382</td>\n",
       "      <td>1.296258</td>\n",
       "      <td>1.354735</td>\n",
       "      <td>1.374708</td>\n",
       "      <td>0.0</td>\n",
       "    </tr>\n",
       "    <tr>\n",
       "      <th>3</th>\n",
       "      <td>0.648244</td>\n",
       "      <td>0.654992</td>\n",
       "      <td>0.654824</td>\n",
       "      <td>0.651539</td>\n",
       "      <td>0.498437</td>\n",
       "      <td>0.690035</td>\n",
       "      <td>0.509310</td>\n",
       "      <td>0.669250</td>\n",
       "      <td>0.483494</td>\n",
       "      <td>0.501346</td>\n",
       "      <td>...</td>\n",
       "      <td>0.837796</td>\n",
       "      <td>0.424594</td>\n",
       "      <td>0.528106</td>\n",
       "      <td>0.817291</td>\n",
       "      <td>0.404327</td>\n",
       "      <td>0.634072</td>\n",
       "      <td>0.440675</td>\n",
       "      <td>0.732804</td>\n",
       "      <td>1.354924</td>\n",
       "      <td>1.0</td>\n",
       "    </tr>\n",
       "    <tr>\n",
       "      <th>4</th>\n",
       "      <td>0.273979</td>\n",
       "      <td>0.277746</td>\n",
       "      <td>0.284761</td>\n",
       "      <td>0.281482</td>\n",
       "      <td>0.303147</td>\n",
       "      <td>0.285764</td>\n",
       "      <td>0.280198</td>\n",
       "      <td>0.274268</td>\n",
       "      <td>0.269927</td>\n",
       "      <td>0.271021</td>\n",
       "      <td>...</td>\n",
       "      <td>0.690006</td>\n",
       "      <td>0.812859</td>\n",
       "      <td>0.717739</td>\n",
       "      <td>0.951507</td>\n",
       "      <td>0.772926</td>\n",
       "      <td>0.886945</td>\n",
       "      <td>0.730272</td>\n",
       "      <td>0.576406</td>\n",
       "      <td>1.311020</td>\n",
       "      <td>0.0</td>\n",
       "    </tr>\n",
       "    <tr>\n",
       "      <th>...</th>\n",
       "      <td>...</td>\n",
       "      <td>...</td>\n",
       "      <td>...</td>\n",
       "      <td>...</td>\n",
       "      <td>...</td>\n",
       "      <td>...</td>\n",
       "      <td>...</td>\n",
       "      <td>...</td>\n",
       "      <td>...</td>\n",
       "      <td>...</td>\n",
       "      <td>...</td>\n",
       "      <td>...</td>\n",
       "      <td>...</td>\n",
       "      <td>...</td>\n",
       "      <td>...</td>\n",
       "      <td>...</td>\n",
       "      <td>...</td>\n",
       "      <td>...</td>\n",
       "      <td>...</td>\n",
       "      <td>...</td>\n",
       "      <td>...</td>\n",
       "    </tr>\n",
       "    <tr>\n",
       "      <th>19369</th>\n",
       "      <td>0.420159</td>\n",
       "      <td>0.539634</td>\n",
       "      <td>0.553114</td>\n",
       "      <td>0.445364</td>\n",
       "      <td>0.456413</td>\n",
       "      <td>0.484084</td>\n",
       "      <td>0.491127</td>\n",
       "      <td>0.502279</td>\n",
       "      <td>0.405376</td>\n",
       "      <td>0.530856</td>\n",
       "      <td>...</td>\n",
       "      <td>1.272673</td>\n",
       "      <td>1.261968</td>\n",
       "      <td>1.310505</td>\n",
       "      <td>1.349567</td>\n",
       "      <td>1.252342</td>\n",
       "      <td>1.353315</td>\n",
       "      <td>1.225385</td>\n",
       "      <td>1.336892</td>\n",
       "      <td>1.304636</td>\n",
       "      <td>0.0</td>\n",
       "    </tr>\n",
       "    <tr>\n",
       "      <th>19370</th>\n",
       "      <td>0.481627</td>\n",
       "      <td>0.467439</td>\n",
       "      <td>0.593716</td>\n",
       "      <td>0.594382</td>\n",
       "      <td>0.465957</td>\n",
       "      <td>0.529134</td>\n",
       "      <td>0.553749</td>\n",
       "      <td>0.482576</td>\n",
       "      <td>0.462229</td>\n",
       "      <td>0.442401</td>\n",
       "      <td>...</td>\n",
       "      <td>1.268374</td>\n",
       "      <td>1.322265</td>\n",
       "      <td>1.341143</td>\n",
       "      <td>1.346202</td>\n",
       "      <td>1.294336</td>\n",
       "      <td>1.359204</td>\n",
       "      <td>1.328350</td>\n",
       "      <td>1.340989</td>\n",
       "      <td>1.352717</td>\n",
       "      <td>0.0</td>\n",
       "    </tr>\n",
       "    <tr>\n",
       "      <th>19371</th>\n",
       "      <td>0.623665</td>\n",
       "      <td>0.564269</td>\n",
       "      <td>0.519484</td>\n",
       "      <td>0.492092</td>\n",
       "      <td>0.561203</td>\n",
       "      <td>0.471161</td>\n",
       "      <td>0.608575</td>\n",
       "      <td>0.581709</td>\n",
       "      <td>0.579173</td>\n",
       "      <td>0.511012</td>\n",
       "      <td>...</td>\n",
       "      <td>1.299334</td>\n",
       "      <td>1.309861</td>\n",
       "      <td>1.358664</td>\n",
       "      <td>1.271001</td>\n",
       "      <td>1.388717</td>\n",
       "      <td>1.361720</td>\n",
       "      <td>1.295100</td>\n",
       "      <td>1.296166</td>\n",
       "      <td>1.350382</td>\n",
       "      <td>0.0</td>\n",
       "    </tr>\n",
       "    <tr>\n",
       "      <th>19372</th>\n",
       "      <td>0.548308</td>\n",
       "      <td>0.526311</td>\n",
       "      <td>0.558804</td>\n",
       "      <td>0.603206</td>\n",
       "      <td>0.437835</td>\n",
       "      <td>0.499259</td>\n",
       "      <td>0.615961</td>\n",
       "      <td>0.377607</td>\n",
       "      <td>0.531348</td>\n",
       "      <td>0.441672</td>\n",
       "      <td>...</td>\n",
       "      <td>1.347398</td>\n",
       "      <td>1.200716</td>\n",
       "      <td>1.251561</td>\n",
       "      <td>1.318744</td>\n",
       "      <td>1.269002</td>\n",
       "      <td>1.226858</td>\n",
       "      <td>1.221599</td>\n",
       "      <td>1.275983</td>\n",
       "      <td>1.329643</td>\n",
       "      <td>0.0</td>\n",
       "    </tr>\n",
       "    <tr>\n",
       "      <th>19373</th>\n",
       "      <td>0.538010</td>\n",
       "      <td>0.476326</td>\n",
       "      <td>0.480788</td>\n",
       "      <td>0.464696</td>\n",
       "      <td>0.477890</td>\n",
       "      <td>0.458562</td>\n",
       "      <td>0.461717</td>\n",
       "      <td>0.485598</td>\n",
       "      <td>0.455455</td>\n",
       "      <td>0.482317</td>\n",
       "      <td>...</td>\n",
       "      <td>0.099735</td>\n",
       "      <td>0.464723</td>\n",
       "      <td>0.454104</td>\n",
       "      <td>0.488796</td>\n",
       "      <td>0.530047</td>\n",
       "      <td>0.309301</td>\n",
       "      <td>0.495360</td>\n",
       "      <td>0.169146</td>\n",
       "      <td>0.422134</td>\n",
       "      <td>0.0</td>\n",
       "    </tr>\n",
       "  </tbody>\n",
       "</table>\n",
       "<p>19374 rows × 271 columns</p>\n",
       "</div>"
      ],
      "text/plain": [
       "              0         1         2         3         4         5         6  \\\n",
       "0      0.335164  0.422834  0.425434  0.386857  0.268384  0.364790  0.372324   \n",
       "1      0.558940  0.547185  0.536815  0.439565  0.635416  0.497883  0.601128   \n",
       "2      0.481070  0.521079  0.499746  0.613020  0.501244  0.668536  0.593137   \n",
       "3      0.648244  0.654992  0.654824  0.651539  0.498437  0.690035  0.509310   \n",
       "4      0.273979  0.277746  0.284761  0.281482  0.303147  0.285764  0.280198   \n",
       "...         ...       ...       ...       ...       ...       ...       ...   \n",
       "19369  0.420159  0.539634  0.553114  0.445364  0.456413  0.484084  0.491127   \n",
       "19370  0.481627  0.467439  0.593716  0.594382  0.465957  0.529134  0.553749   \n",
       "19371  0.623665  0.564269  0.519484  0.492092  0.561203  0.471161  0.608575   \n",
       "19372  0.548308  0.526311  0.558804  0.603206  0.437835  0.499259  0.615961   \n",
       "19373  0.538010  0.476326  0.480788  0.464696  0.477890  0.458562  0.461717   \n",
       "\n",
       "              7         8         9  ...      9.14     10.14     11.14  \\\n",
       "0      0.337670  0.317918  0.323084  ...  0.547509  0.428001  0.381886   \n",
       "1      0.535507  0.491099  0.487306  ...  1.198504  1.258176  1.284958   \n",
       "2      0.620548  0.625243  0.594081  ...  1.187891  1.316769  1.341679   \n",
       "3      0.669250  0.483494  0.501346  ...  0.837796  0.424594  0.528106   \n",
       "4      0.274268  0.269927  0.271021  ...  0.690006  0.812859  0.717739   \n",
       "...         ...       ...       ...  ...       ...       ...       ...   \n",
       "19369  0.502279  0.405376  0.530856  ...  1.272673  1.261968  1.310505   \n",
       "19370  0.482576  0.462229  0.442401  ...  1.268374  1.322265  1.341143   \n",
       "19371  0.581709  0.579173  0.511012  ...  1.299334  1.309861  1.358664   \n",
       "19372  0.377607  0.531348  0.441672  ...  1.347398  1.200716  1.251561   \n",
       "19373  0.485598  0.455455  0.482317  ...  0.099735  0.464723  0.454104   \n",
       "\n",
       "          12.14     13.14     14.14     15.14     16.14     17.14  9216  \n",
       "0      0.538637  0.495738  0.543177  0.453424  0.320640  1.318853   0.0  \n",
       "1      1.187919  1.312455  1.242558  1.224121  1.272901  1.324214   0.0  \n",
       "2      1.294233  1.312466  1.173382  1.296258  1.354735  1.374708   0.0  \n",
       "3      0.817291  0.404327  0.634072  0.440675  0.732804  1.354924   1.0  \n",
       "4      0.951507  0.772926  0.886945  0.730272  0.576406  1.311020   0.0  \n",
       "...         ...       ...       ...       ...       ...       ...   ...  \n",
       "19369  1.349567  1.252342  1.353315  1.225385  1.336892  1.304636   0.0  \n",
       "19370  1.346202  1.294336  1.359204  1.328350  1.340989  1.352717   0.0  \n",
       "19371  1.271001  1.388717  1.361720  1.295100  1.296166  1.350382   0.0  \n",
       "19372  1.318744  1.269002  1.226858  1.221599  1.275983  1.329643   0.0  \n",
       "19373  0.488796  0.530047  0.309301  0.495360  0.169146  0.422134   0.0  \n",
       "\n",
       "[19374 rows x 271 columns]"
      ]
     },
     "execution_count": 56,
     "metadata": {},
     "output_type": "execute_result"
    }
   ],
   "source": [
    "df.replace([np.inf, -np.inf], np.nan, inplace=True)\n",
    "df = df.dropna(how='all')\n",
    "\n",
    "df.reset_index(drop=True)"
   ]
  },
  {
   "cell_type": "code",
   "execution_count": 57,
   "id": "18d08531",
   "metadata": {
    "ExecuteTime": {
     "end_time": "2023-01-22T19:55:18.481657Z",
     "start_time": "2023-01-22T19:55:18.438771Z"
    }
   },
   "outputs": [],
   "source": [
    "updated_df = df.dropna(axis=0)"
   ]
  },
  {
   "cell_type": "code",
   "execution_count": 58,
   "id": "c968cc74",
   "metadata": {
    "ExecuteTime": {
     "end_time": "2023-01-22T19:55:20.242194Z",
     "start_time": "2023-01-22T19:55:20.203443Z"
    }
   },
   "outputs": [],
   "source": [
    "X=updated_df.drop(columns=['9216'])\n",
    "Y=updated_df['9216']"
   ]
  },
  {
   "cell_type": "code",
   "execution_count": 60,
   "id": "0f467e2a",
   "metadata": {
    "ExecuteTime": {
     "end_time": "2023-01-22T19:55:34.271140Z",
     "start_time": "2023-01-22T19:55:32.983878Z"
    }
   },
   "outputs": [],
   "source": [
    "sm = SMOTE(random_state=42)\n",
    "X_res, y_res = sm.fit_resample(X, Y)"
   ]
  },
  {
   "cell_type": "code",
   "execution_count": 61,
   "id": "a541eb5a",
   "metadata": {
    "ExecuteTime": {
     "end_time": "2023-01-22T19:55:53.431560Z",
     "start_time": "2023-01-22T19:55:53.252377Z"
    }
   },
   "outputs": [],
   "source": [
    "x_train,x_test,y_train,y_test= train_test_split(X_res,y_res,test_size=0.3,random_state=20,stratify=y_res)"
   ]
  },
  {
   "cell_type": "code",
   "execution_count": 63,
   "id": "4903f755",
   "metadata": {
    "ExecuteTime": {
     "end_time": "2023-01-22T19:56:13.754899Z",
     "start_time": "2023-01-22T19:56:13.701790Z"
    }
   },
   "outputs": [
    {
     "data": {
      "text/plain": [
       "0.0    12687\n",
       "1.0    12686\n",
       "Name: 9216, dtype: int64"
      ]
     },
     "execution_count": 63,
     "metadata": {},
     "output_type": "execute_result"
    }
   ],
   "source": [
    "y_train.value_counts()"
   ]
  },
  {
   "cell_type": "code",
   "execution_count": 64,
   "id": "fbe8ca7b",
   "metadata": {
    "ExecuteTime": {
     "end_time": "2023-01-22T19:56:19.085132Z",
     "start_time": "2023-01-22T19:56:19.076160Z"
    }
   },
   "outputs": [],
   "source": [
    "rf=RandomForestClassifier()\n",
    "xgb=xgb.XGBClassifier()\n",
    "dt=DecisionTreeClassifier()\n",
    "gb=GradientBoostingClassifier()"
   ]
  },
  {
   "cell_type": "code",
   "execution_count": 65,
   "id": "e6d8497f",
   "metadata": {
    "ExecuteTime": {
     "end_time": "2023-01-22T19:57:23.911081Z",
     "start_time": "2023-01-22T19:56:19.523290Z"
    }
   },
   "outputs": [
    {
     "data": {
      "text/html": [
       "<style>#sk-container-id-12 {color: black;background-color: white;}#sk-container-id-12 pre{padding: 0;}#sk-container-id-12 div.sk-toggleable {background-color: white;}#sk-container-id-12 label.sk-toggleable__label {cursor: pointer;display: block;width: 100%;margin-bottom: 0;padding: 0.3em;box-sizing: border-box;text-align: center;}#sk-container-id-12 label.sk-toggleable__label-arrow:before {content: \"▸\";float: left;margin-right: 0.25em;color: #696969;}#sk-container-id-12 label.sk-toggleable__label-arrow:hover:before {color: black;}#sk-container-id-12 div.sk-estimator:hover label.sk-toggleable__label-arrow:before {color: black;}#sk-container-id-12 div.sk-toggleable__content {max-height: 0;max-width: 0;overflow: hidden;text-align: left;background-color: #f0f8ff;}#sk-container-id-12 div.sk-toggleable__content pre {margin: 0.2em;color: black;border-radius: 0.25em;background-color: #f0f8ff;}#sk-container-id-12 input.sk-toggleable__control:checked~div.sk-toggleable__content {max-height: 200px;max-width: 100%;overflow: auto;}#sk-container-id-12 input.sk-toggleable__control:checked~label.sk-toggleable__label-arrow:before {content: \"▾\";}#sk-container-id-12 div.sk-estimator input.sk-toggleable__control:checked~label.sk-toggleable__label {background-color: #d4ebff;}#sk-container-id-12 div.sk-label input.sk-toggleable__control:checked~label.sk-toggleable__label {background-color: #d4ebff;}#sk-container-id-12 input.sk-hidden--visually {border: 0;clip: rect(1px 1px 1px 1px);clip: rect(1px, 1px, 1px, 1px);height: 1px;margin: -1px;overflow: hidden;padding: 0;position: absolute;width: 1px;}#sk-container-id-12 div.sk-estimator {font-family: monospace;background-color: #f0f8ff;border: 1px dotted black;border-radius: 0.25em;box-sizing: border-box;margin-bottom: 0.5em;}#sk-container-id-12 div.sk-estimator:hover {background-color: #d4ebff;}#sk-container-id-12 div.sk-parallel-item::after {content: \"\";width: 100%;border-bottom: 1px solid gray;flex-grow: 1;}#sk-container-id-12 div.sk-label:hover label.sk-toggleable__label {background-color: #d4ebff;}#sk-container-id-12 div.sk-serial::before {content: \"\";position: absolute;border-left: 1px solid gray;box-sizing: border-box;top: 0;bottom: 0;left: 50%;z-index: 0;}#sk-container-id-12 div.sk-serial {display: flex;flex-direction: column;align-items: center;background-color: white;padding-right: 0.2em;padding-left: 0.2em;position: relative;}#sk-container-id-12 div.sk-item {position: relative;z-index: 1;}#sk-container-id-12 div.sk-parallel {display: flex;align-items: stretch;justify-content: center;background-color: white;position: relative;}#sk-container-id-12 div.sk-item::before, #sk-container-id-12 div.sk-parallel-item::before {content: \"\";position: absolute;border-left: 1px solid gray;box-sizing: border-box;top: 0;bottom: 0;left: 50%;z-index: -1;}#sk-container-id-12 div.sk-parallel-item {display: flex;flex-direction: column;z-index: 1;position: relative;background-color: white;}#sk-container-id-12 div.sk-parallel-item:first-child::after {align-self: flex-end;width: 50%;}#sk-container-id-12 div.sk-parallel-item:last-child::after {align-self: flex-start;width: 50%;}#sk-container-id-12 div.sk-parallel-item:only-child::after {width: 0;}#sk-container-id-12 div.sk-dashed-wrapped {border: 1px dashed gray;margin: 0 0.4em 0.5em 0.4em;box-sizing: border-box;padding-bottom: 0.4em;background-color: white;}#sk-container-id-12 div.sk-label label {font-family: monospace;font-weight: bold;display: inline-block;line-height: 1.2em;}#sk-container-id-12 div.sk-label-container {text-align: center;}#sk-container-id-12 div.sk-container {/* jupyter's `normalize.less` sets `[hidden] { display: none; }` but bootstrap.min.css set `[hidden] { display: none !important; }` so we also need the `!important` here to be able to override the default hidden behavior on the sphinx rendered scikit-learn.org. See: https://github.com/scikit-learn/scikit-learn/issues/21755 */display: inline-block !important;position: relative;}#sk-container-id-12 div.sk-text-repr-fallback {display: none;}</style><div id=\"sk-container-id-12\" class=\"sk-top-container\"><div class=\"sk-text-repr-fallback\"><pre>RandomForestClassifier()</pre><b>In a Jupyter environment, please rerun this cell to show the HTML representation or trust the notebook. <br />On GitHub, the HTML representation is unable to render, please try loading this page with nbviewer.org.</b></div><div class=\"sk-container\" hidden><div class=\"sk-item\"><div class=\"sk-estimator sk-toggleable\"><input class=\"sk-toggleable__control sk-hidden--visually\" id=\"sk-estimator-id-12\" type=\"checkbox\" checked><label for=\"sk-estimator-id-12\" class=\"sk-toggleable__label sk-toggleable__label-arrow\">RandomForestClassifier</label><div class=\"sk-toggleable__content\"><pre>RandomForestClassifier()</pre></div></div></div></div></div>"
      ],
      "text/plain": [
       "RandomForestClassifier()"
      ]
     },
     "execution_count": 65,
     "metadata": {},
     "output_type": "execute_result"
    }
   ],
   "source": [
    "rf.fit(x_train,y_train)"
   ]
  },
  {
   "cell_type": "code",
   "execution_count": 66,
   "id": "96266e8f",
   "metadata": {
    "ExecuteTime": {
     "end_time": "2023-01-22T19:59:06.290421Z",
     "start_time": "2023-01-22T19:57:24.290124Z"
    }
   },
   "outputs": [
    {
     "data": {
      "text/html": [
       "<style>#sk-container-id-13 {color: black;background-color: white;}#sk-container-id-13 pre{padding: 0;}#sk-container-id-13 div.sk-toggleable {background-color: white;}#sk-container-id-13 label.sk-toggleable__label {cursor: pointer;display: block;width: 100%;margin-bottom: 0;padding: 0.3em;box-sizing: border-box;text-align: center;}#sk-container-id-13 label.sk-toggleable__label-arrow:before {content: \"▸\";float: left;margin-right: 0.25em;color: #696969;}#sk-container-id-13 label.sk-toggleable__label-arrow:hover:before {color: black;}#sk-container-id-13 div.sk-estimator:hover label.sk-toggleable__label-arrow:before {color: black;}#sk-container-id-13 div.sk-toggleable__content {max-height: 0;max-width: 0;overflow: hidden;text-align: left;background-color: #f0f8ff;}#sk-container-id-13 div.sk-toggleable__content pre {margin: 0.2em;color: black;border-radius: 0.25em;background-color: #f0f8ff;}#sk-container-id-13 input.sk-toggleable__control:checked~div.sk-toggleable__content {max-height: 200px;max-width: 100%;overflow: auto;}#sk-container-id-13 input.sk-toggleable__control:checked~label.sk-toggleable__label-arrow:before {content: \"▾\";}#sk-container-id-13 div.sk-estimator input.sk-toggleable__control:checked~label.sk-toggleable__label {background-color: #d4ebff;}#sk-container-id-13 div.sk-label input.sk-toggleable__control:checked~label.sk-toggleable__label {background-color: #d4ebff;}#sk-container-id-13 input.sk-hidden--visually {border: 0;clip: rect(1px 1px 1px 1px);clip: rect(1px, 1px, 1px, 1px);height: 1px;margin: -1px;overflow: hidden;padding: 0;position: absolute;width: 1px;}#sk-container-id-13 div.sk-estimator {font-family: monospace;background-color: #f0f8ff;border: 1px dotted black;border-radius: 0.25em;box-sizing: border-box;margin-bottom: 0.5em;}#sk-container-id-13 div.sk-estimator:hover {background-color: #d4ebff;}#sk-container-id-13 div.sk-parallel-item::after {content: \"\";width: 100%;border-bottom: 1px solid gray;flex-grow: 1;}#sk-container-id-13 div.sk-label:hover label.sk-toggleable__label {background-color: #d4ebff;}#sk-container-id-13 div.sk-serial::before {content: \"\";position: absolute;border-left: 1px solid gray;box-sizing: border-box;top: 0;bottom: 0;left: 50%;z-index: 0;}#sk-container-id-13 div.sk-serial {display: flex;flex-direction: column;align-items: center;background-color: white;padding-right: 0.2em;padding-left: 0.2em;position: relative;}#sk-container-id-13 div.sk-item {position: relative;z-index: 1;}#sk-container-id-13 div.sk-parallel {display: flex;align-items: stretch;justify-content: center;background-color: white;position: relative;}#sk-container-id-13 div.sk-item::before, #sk-container-id-13 div.sk-parallel-item::before {content: \"\";position: absolute;border-left: 1px solid gray;box-sizing: border-box;top: 0;bottom: 0;left: 50%;z-index: -1;}#sk-container-id-13 div.sk-parallel-item {display: flex;flex-direction: column;z-index: 1;position: relative;background-color: white;}#sk-container-id-13 div.sk-parallel-item:first-child::after {align-self: flex-end;width: 50%;}#sk-container-id-13 div.sk-parallel-item:last-child::after {align-self: flex-start;width: 50%;}#sk-container-id-13 div.sk-parallel-item:only-child::after {width: 0;}#sk-container-id-13 div.sk-dashed-wrapped {border: 1px dashed gray;margin: 0 0.4em 0.5em 0.4em;box-sizing: border-box;padding-bottom: 0.4em;background-color: white;}#sk-container-id-13 div.sk-label label {font-family: monospace;font-weight: bold;display: inline-block;line-height: 1.2em;}#sk-container-id-13 div.sk-label-container {text-align: center;}#sk-container-id-13 div.sk-container {/* jupyter's `normalize.less` sets `[hidden] { display: none; }` but bootstrap.min.css set `[hidden] { display: none !important; }` so we also need the `!important` here to be able to override the default hidden behavior on the sphinx rendered scikit-learn.org. See: https://github.com/scikit-learn/scikit-learn/issues/21755 */display: inline-block !important;position: relative;}#sk-container-id-13 div.sk-text-repr-fallback {display: none;}</style><div id=\"sk-container-id-13\" class=\"sk-top-container\"><div class=\"sk-text-repr-fallback\"><pre>XGBClassifier(base_score=0.5, booster=&#x27;gbtree&#x27;, callbacks=None,\n",
       "              colsample_bylevel=1, colsample_bynode=1, colsample_bytree=1,\n",
       "              early_stopping_rounds=None, enable_categorical=False,\n",
       "              eval_metric=None, gamma=0, gpu_id=-1, grow_policy=&#x27;depthwise&#x27;,\n",
       "              importance_type=None, interaction_constraints=&#x27;&#x27;,\n",
       "              learning_rate=0.300000012, max_bin=256, max_cat_to_onehot=4,\n",
       "              max_delta_step=0, max_depth=6, max_leaves=0, min_child_weight=1,\n",
       "              missing=nan, monotone_constraints=&#x27;()&#x27;, n_estimators=100,\n",
       "              n_jobs=0, num_parallel_tree=1, predictor=&#x27;auto&#x27;, random_state=0,\n",
       "              reg_alpha=0, reg_lambda=1, ...)</pre><b>In a Jupyter environment, please rerun this cell to show the HTML representation or trust the notebook. <br />On GitHub, the HTML representation is unable to render, please try loading this page with nbviewer.org.</b></div><div class=\"sk-container\" hidden><div class=\"sk-item\"><div class=\"sk-estimator sk-toggleable\"><input class=\"sk-toggleable__control sk-hidden--visually\" id=\"sk-estimator-id-13\" type=\"checkbox\" checked><label for=\"sk-estimator-id-13\" class=\"sk-toggleable__label sk-toggleable__label-arrow\">XGBClassifier</label><div class=\"sk-toggleable__content\"><pre>XGBClassifier(base_score=0.5, booster=&#x27;gbtree&#x27;, callbacks=None,\n",
       "              colsample_bylevel=1, colsample_bynode=1, colsample_bytree=1,\n",
       "              early_stopping_rounds=None, enable_categorical=False,\n",
       "              eval_metric=None, gamma=0, gpu_id=-1, grow_policy=&#x27;depthwise&#x27;,\n",
       "              importance_type=None, interaction_constraints=&#x27;&#x27;,\n",
       "              learning_rate=0.300000012, max_bin=256, max_cat_to_onehot=4,\n",
       "              max_delta_step=0, max_depth=6, max_leaves=0, min_child_weight=1,\n",
       "              missing=nan, monotone_constraints=&#x27;()&#x27;, n_estimators=100,\n",
       "              n_jobs=0, num_parallel_tree=1, predictor=&#x27;auto&#x27;, random_state=0,\n",
       "              reg_alpha=0, reg_lambda=1, ...)</pre></div></div></div></div></div>"
      ],
      "text/plain": [
       "XGBClassifier(base_score=0.5, booster='gbtree', callbacks=None,\n",
       "              colsample_bylevel=1, colsample_bynode=1, colsample_bytree=1,\n",
       "              early_stopping_rounds=None, enable_categorical=False,\n",
       "              eval_metric=None, gamma=0, gpu_id=-1, grow_policy='depthwise',\n",
       "              importance_type=None, interaction_constraints='',\n",
       "              learning_rate=0.300000012, max_bin=256, max_cat_to_onehot=4,\n",
       "              max_delta_step=0, max_depth=6, max_leaves=0, min_child_weight=1,\n",
       "              missing=nan, monotone_constraints='()', n_estimators=100,\n",
       "              n_jobs=0, num_parallel_tree=1, predictor='auto', random_state=0,\n",
       "              reg_alpha=0, reg_lambda=1, ...)"
      ]
     },
     "execution_count": 66,
     "metadata": {},
     "output_type": "execute_result"
    }
   ],
   "source": [
    "xgb.fit(x_train,y_train)"
   ]
  },
  {
   "cell_type": "code",
   "execution_count": 67,
   "id": "f7cfe3ea",
   "metadata": {
    "ExecuteTime": {
     "end_time": "2023-01-22T19:59:07.584961Z",
     "start_time": "2023-01-22T19:59:06.823994Z"
    }
   },
   "outputs": [],
   "source": [
    "pred_rf=rf.predict(x_test)\n",
    "pred_xgb=xgb.predict(x_test)\n"
   ]
  },
  {
   "cell_type": "code",
   "execution_count": 68,
   "id": "8aa204d8",
   "metadata": {
    "ExecuteTime": {
     "end_time": "2023-01-22T19:59:07.976911Z",
     "start_time": "2023-01-22T19:59:07.949985Z"
    }
   },
   "outputs": [
    {
     "name": "stdout",
     "output_type": "stream",
     "text": [
      "0.9625747126436781\n"
     ]
    }
   ],
   "source": [
    "\n",
    "print(accuracy_score(y_test,pred_xgb))"
   ]
  },
  {
   "cell_type": "code",
   "execution_count": 69,
   "id": "584f06dc",
   "metadata": {
    "ExecuteTime": {
     "end_time": "2023-01-22T19:59:08.338979Z",
     "start_time": "2023-01-22T19:59:08.279102Z"
    }
   },
   "outputs": [
    {
     "name": "stdout",
     "output_type": "stream",
     "text": [
      "               precision    recall  f1-score   support\n",
      "\n",
      "         0.0       0.99      0.94      0.96      5437\n",
      "         1.0       0.94      0.99      0.96      5438\n",
      "\n",
      "    accuracy                           0.96     10875\n",
      "   macro avg       0.96      0.96      0.96     10875\n",
      "weighted avg       0.96      0.96      0.96     10875\n",
      "\n"
     ]
    }
   ],
   "source": [
    "print('',classification_report(y_test,pred_xgb))"
   ]
  },
  {
   "cell_type": "code",
   "execution_count": 70,
   "id": "09268d39",
   "metadata": {
    "ExecuteTime": {
     "end_time": "2023-01-22T19:59:08.680034Z",
     "start_time": "2023-01-22T19:59:08.653103Z"
    }
   },
   "outputs": [
    {
     "data": {
      "text/plain": [
       "0.9251490740249847"
      ]
     },
     "execution_count": 70,
     "metadata": {},
     "output_type": "execute_result"
    }
   ],
   "source": [
    "cohen_kappa_score(y_test,pred_xgb)"
   ]
  },
  {
   "cell_type": "code",
   "execution_count": 71,
   "id": "2f1d09cd",
   "metadata": {
    "ExecuteTime": {
     "end_time": "2023-01-22T20:02:54.365576Z",
     "start_time": "2023-01-22T20:02:54.358586Z"
    }
   },
   "outputs": [],
   "source": [
    "from sklearn.metrics import confusion_matrix"
   ]
  },
  {
   "cell_type": "code",
   "execution_count": 72,
   "id": "14bcd0cc",
   "metadata": {
    "ExecuteTime": {
     "end_time": "2023-01-22T20:03:14.201982Z",
     "start_time": "2023-01-22T20:03:14.166078Z"
    }
   },
   "outputs": [
    {
     "data": {
      "text/plain": [
       "array([[5095,  342],\n",
       "       [  65, 5373]], dtype=int64)"
      ]
     },
     "execution_count": 72,
     "metadata": {},
     "output_type": "execute_result"
    }
   ],
   "source": [
    "confusion_matrix(y_test, pred_xgb)"
   ]
  },
  {
   "cell_type": "code",
   "execution_count": 74,
   "id": "fd969acc",
   "metadata": {
    "ExecuteTime": {
     "end_time": "2023-01-22T20:06:34.473838Z",
     "start_time": "2023-01-22T20:06:34.129759Z"
    }
   },
   "outputs": [
    {
     "name": "stderr",
     "output_type": "stream",
     "text": [
      "C:\\Users\\dodul\\anaconda3\\lib\\site-packages\\sklearn\\utils\\deprecation.py:87: FutureWarning: Function plot_confusion_matrix is deprecated; Function `plot_confusion_matrix` is deprecated in 1.0 and will be removed in 1.2. Use one of the class methods: ConfusionMatrixDisplay.from_predictions or ConfusionMatrixDisplay.from_estimator.\n",
      "  warnings.warn(msg, category=FutureWarning)\n"
     ]
    },
    {
     "data": {
      "image/png": "[encoded data removed]",
      "text/plain": [
       "<Figure size 432x288 with 2 Axes>"
      ]
     },
     "metadata": {
      "needs_background": "light"
     },
     "output_type": "display_data"
    }
   ],
   "source": [
    "import matplotlib.pyplot as plt\n",
    "from sklearn.metrics import plot_confusion_matrix\n",
    " \n",
    "color = 'white'\n",
    "matrix = plot_confusion_matrix(xgb, x_test, y_test, cmap=plt.cm.Blues)\n",
    "matrix.ax_.set_title('Confusion Matrix', color=color)\n",
    "plt.xlabel('Predicted Label', color='Black')\n",
    "plt.ylabel('True Label', color='Black')\n",
    "plt.gcf().axes[0].tick_params(colors='Black')\n",
    "plt.gcf().axes[1].tick_params(colors='Black')\n",
    "plt.show()"
   ]
  },
  {
   "cell_type": "code",
   "execution_count": null,
   "id": "f7e7890f",
   "metadata": {},
   "outputs": [],
   "source": []
  }
 ],
 "metadata": {
  "kernelspec": {
   "display_name": "Python 3 (ipykernel)",
   "language": "python",
   "name": "python3"
  },
  "language_info": {
   "codemirror_mode": {
    "name": "ipython",
    "version": 3
   },
   "file_extension": ".py",
   "mimetype": "text/x-python",
   "name": "python",
   "nbconvert_exporter": "python",
   "pygments_lexer": "ipython3",
   "version": "3.9.12"
  },
  "varInspector": {
   "cols": {
    "lenName": 16,
    "lenType": 16,
    "lenVar": 40
   },
   "kernels_config": {
    "python": {
     "delete_cmd_postfix": "",
     "delete_cmd_prefix": "del ",
     "library": "var_list.py",
     "varRefreshCmd": "print(var_dic_list())"
    },
    "r": {
     "delete_cmd_postfix": ") ",
     "delete_cmd_prefix": "rm(",
     "library": "var_list.r",
     "varRefreshCmd": "cat(var_dic_list()) "
    }
   },
   "position": {
    "height": "144.85px",
    "left": "859.8px",
    "right": "20px",
    "top": "120px",
    "width": "350px"
   },
   "types_to_exclude": [
    "module",
    "function",
    "builtin_function_or_method",
    "instance",
    "_Feature"
   ],
   "window_display": true
  }
 },
 "nbformat": 4,
 "nbformat_minor": 5
}
